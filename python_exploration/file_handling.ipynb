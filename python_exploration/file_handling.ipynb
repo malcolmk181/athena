{
 "cells": [
  {
   "cell_type": "code",
   "execution_count": 1,
   "metadata": {},
   "outputs": [
    {
     "name": "stdout",
     "output_type": "stream",
     "text": [
      "['../../../../09-02-23 - Lecture 2 - The Bronze Age.md', '../../../../09-01-23 Readings.md']\n"
     ]
    }
   ],
   "source": [
    "import glob\n",
    "\n",
    "# Collect files 4 folders up\n",
    "files = glob.glob(\"../../../../*.*\")\n",
    "\n",
    "# Print the list of files\n",
    "print(files)"
   ]
  },
  {
   "cell_type": "code",
   "execution_count": 2,
   "metadata": {},
   "outputs": [],
   "source": [
    "import glob\n",
    "import os\n",
    "import json\n",
    "\n",
    "# Collect files 4 folders up\n",
    "files = glob.glob(\"../../../../*.*\")\n",
    "\n",
    "# Create a dictionary to store file names and their last modified time\n",
    "file_dict = {}\n",
    "\n",
    "# Loop through the files and add them to the dictionary\n",
    "for file in files:\n",
    "    file_dict[os.path.basename(file)] = os.path.getmtime(file)\n",
    "\n",
    "# Write the dictionary to a JSON file\n",
    "with open('file_dict.json', 'w') as f:\n",
    "    json.dump(file_dict, f)\n"
   ]
  },
  {
   "cell_type": "code",
   "execution_count": null,
   "metadata": {},
   "outputs": [],
   "source": []
  }
 ],
 "metadata": {
  "kernelspec": {
   "display_name": "venv",
   "language": "python",
   "name": "python3"
  },
  "language_info": {
   "codemirror_mode": {
    "name": "ipython",
    "version": 3
   },
   "file_extension": ".py",
   "mimetype": "text/x-python",
   "name": "python",
   "nbconvert_exporter": "python",
   "pygments_lexer": "ipython3",
   "version": "3.10.11"
  }
 },
 "nbformat": 4,
 "nbformat_minor": 2
}
