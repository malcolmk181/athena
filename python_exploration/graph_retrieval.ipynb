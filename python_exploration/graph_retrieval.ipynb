{
 "cells": [
  {
   "cell_type": "code",
   "execution_count": 1,
   "metadata": {},
   "outputs": [],
   "source": [
    "from langchain.chains import GraphCypherQAChain\n",
    "\n",
    "import embedding_handling\n",
    "import file_handling\n",
    "import graph_handling"
   ]
  },
  {
   "cell_type": "code",
   "execution_count": 2,
   "metadata": {},
   "outputs": [],
   "source": [
    "graph = graph_handling.get_graph_connector()"
   ]
  },
  {
   "cell_type": "code",
   "execution_count": 3,
   "metadata": {},
   "outputs": [],
   "source": [
    "graph.refresh_schema()"
   ]
  },
  {
   "cell_type": "code",
   "execution_count": 4,
   "metadata": {},
   "outputs": [],
   "source": [
    "cypher_chain = GraphCypherQAChain.from_llm(\n",
    "    graph=graph,\n",
    "    cypher_llm=graph_handling.GPT4,\n",
    "    qa_llm=graph_handling.GPT4,\n",
    "    validate_cypher=True, # Validate relationship directions\n",
    "    verbose=True\n",
    ")"
   ]
  },
  {
   "cell_type": "code",
   "execution_count": 7,
   "metadata": {},
   "outputs": [
    {
     "name": "stdout",
     "output_type": "stream",
     "text": [
      "\n",
      "\n",
      "\u001b[1m> Entering new GraphCypherQAChain chain...\u001b[0m\n",
      "Generated Cypher:\n",
      "\u001b[32;1m\u001b[1;3mMATCH (p:Person {name: \"Heinrich Schliemann\"})-[:DISCOVERED]->(pl:Place) RETURN pl.name\u001b[0m\n",
      "Full Context:\n",
      "\u001b[32;1m\u001b[1;3m[{'pl.name': 'Troy'}, {'pl.name': 'Mycenae'}]\u001b[0m\n",
      "\n",
      "\u001b[1m> Finished chain.\u001b[0m\n"
     ]
    },
    {
     "data": {
      "text/plain": [
       "'Heinrich Schliemann made his discoveries in Troy and Mycenae.'"
      ]
     },
     "execution_count": 7,
     "metadata": {},
     "output_type": "execute_result"
    }
   ],
   "source": [
    "cypher_chain.run(\"Where did Heinrich Schliemann discover?\")"
   ]
  },
  {
   "cell_type": "code",
   "execution_count": 11,
   "metadata": {},
   "outputs": [
    {
     "name": "stdout",
     "output_type": "stream",
     "text": [
      "\n",
      "        Node properties are the following:\n",
      "        [{'labels': 'Place', 'properties': [{'property': 'discoverydate', 'type': 'STRING'}, {'property': 'rebuildings', 'type': 'STRING'}, {'property': 'importance', 'type': 'STRING'}, {'property': 'id', 'type': 'STRING'}, {'property': 'name', 'type': 'STRING'}, {'property': 'importantfeature', 'type': 'STRING'}, {'property': 'description', 'type': 'STRING'}, {'property': 'statehalves', 'type': 'STRING'}, {'property': 'regions', 'type': 'STRING'}, {'property': 'possiblestructure', 'type': 'STRING'}, {'property': 'destructiondate', 'type': 'STRING'}, {'property': 'alias', 'type': 'STRING'}, {'property': 'inhabitationperiod', 'type': 'STRING'}, {'property': 'significantchange', 'type': 'STRING'}, {'property': 'startofrecordedhistory', 'type': 'STRING'}, {'property': 'rapidexpansion', 'type': 'STRING'}, {'property': 'burntandlooteddate', 'type': 'STRING'}, {'property': 'lostrulerstatus', 'type': 'STRING'}, {'property': 'rulearea', 'type': 'STRING'}]}, {'labels': 'Artifact', 'properties': [{'property': 'name', 'type': 'STRING'}, {'property': 'id', 'type': 'STRING'}, {'property': 'composition', 'type': 'STRING'}, {'property': 'preservationmethod', 'type': 'STRING'}, {'property': 'content', 'type': 'STRING'}, {'property': 'usage', 'type': 'STRING'}, {'property': 'locationfound', 'type': 'STRING'}, {'property': 'creationdate', 'type': 'STRING'}]}, {'labels': 'Script', 'properties': [{'property': 'description', 'type': 'STRING'}, {'property': 'name', 'type': 'STRING'}, {'property': 'id', 'type': 'STRING'}]}, {'labels': 'Person', 'properties': [{'property': 'name', 'type': 'STRING'}, {'property': 'id', 'type': 'STRING'}, {'property': 'characteristics', 'type': 'STRING'}, {'property': 'profession', 'type': 'STRING'}, {'property': 'timeperiod', 'type': 'STRING'}, {'property': 'role', 'type': 'STRING'}, {'property': 'divinestatus', 'type': 'STRING'}, {'property': 'warriorstatus', 'type': 'STRING'}, {'property': 'chariotsdefeated', 'type': 'STRING'}]}, {'labels': 'Civilization', 'properties': [{'property': 'timeperiod', 'type': 'STRING'}, {'property': 'id', 'type': 'STRING'}, {'property': 'name', 'type': 'STRING'}, {'property': 'location', 'type': 'STRING'}, {'property': 'influence', 'type': 'STRING'}, {'property': 'interactionarea', 'type': 'STRING'}]}, {'labels': 'Group', 'properties': [{'property': 'description', 'type': 'STRING'}, {'property': 'id', 'type': 'STRING'}, {'property': 'name', 'type': 'STRING'}]}, {'labels': 'Location', 'properties': [{'property': 'tradepartners', 'type': 'STRING'}, {'property': 'influencerange', 'type': 'STRING'}, {'property': 'greekinfluence', 'type': 'STRING'}, {'property': 'majorpalaces', 'type': 'STRING'}, {'property': 'id', 'type': 'STRING'}, {'property': 'name', 'type': 'STRING'}, {'property': 'settlement', 'type': 'STRING'}, {'property': 'function', 'type': 'STRING'}, {'property': 'controlarea', 'type': 'STRING'}, {'property': 'reconstructiondates', 'type': 'STRING'}, {'property': 'economicsystem', 'type': 'STRING'}, {'property': 'minoaninfluence', 'type': 'STRING'}, {'property': 'settlementincrete', 'type': 'STRING'}, {'property': 'appearance', 'type': 'STRING'}, {'property': 'burialstyle', 'type': 'STRING'}]}, {'labels': 'Structure', 'properties': [{'property': 'name', 'type': 'STRING'}, {'property': 'importance', 'type': 'STRING'}, {'property': 'function', 'type': 'STRING'}, {'property': 'id', 'type': 'STRING'}, {'property': 'rulearea', 'type': 'STRING'}, {'property': 'numberfound', 'type': 'STRING'}]}, {'labels': 'Concept', 'properties': [{'property': 'name', 'type': 'STRING'}, {'property': 'id', 'type': 'STRING'}]}, {'labels': 'Language', 'properties': [{'property': 'discoverylocation', 'type': 'STRING'}, {'property': 'name', 'type': 'STRING'}, {'property': 'relation', 'type': 'STRING'}, {'property': 'decipherstatus', 'type': 'STRING'}, {'property': 'id', 'type': 'STRING'}, {'property': 'form', 'type': 'STRING'}]}, {'labels': 'People', 'properties': [{'property': 'id', 'type': 'STRING'}, {'property': 'name', 'type': 'STRING'}]}, {'labels': 'Settlement', 'properties': [{'property': 'status', 'type': 'STRING'}, {'property': 'id', 'type': 'STRING'}, {'property': 'name', 'type': 'STRING'}]}, {'labels': 'Deity', 'properties': [{'property': 'adoptionyear', 'type': 'STRING'}, {'property': 'id', 'type': 'STRING'}, {'property': 'name', 'type': 'STRING'}, {'property': 'primaryworship', 'type': 'STRING'}]}, {'labels': 'ObsidianNote', 'properties': [{'property': 'file_name', 'type': 'STRING'}, {'property': 'id', 'type': 'STRING'}]}, {'labels': 'ObsidianNoteChunk', 'properties': [{'property': 'id', 'type': 'STRING'}, {'property': 'embeddings', 'type': 'LIST'}, {'property': 'chunk_number', 'type': 'INTEGER'}, {'property': 'file_name', 'type': 'STRING'}]}, {'labels': 'ObsidianVaultNode', 'properties': [{'property': 'id', 'type': 'STRING'}]}, {'labels': 'Timeperiod', 'properties': [{'property': 'id', 'type': 'STRING'}, {'property': 'name', 'type': 'STRING'}, {'property': 'startyear', 'type': 'STRING'}, {'property': 'endyear', 'type': 'STRING'}]}, {'labels': 'Object', 'properties': [{'property': 'name', 'type': 'STRING'}, {'property': 'origin', 'type': 'STRING'}, {'property': 'usage', 'type': 'STRING'}, {'property': 'id', 'type': 'STRING'}, {'property': 'description', 'type': 'STRING'}]}]\n",
      "        Relationship properties are the following:\n",
      "        [{'properties': [{'property': 'year', 'type': 'STRING'}], 'type': 'ADOPTED'}, {'properties': [{'property': 'year', 'type': 'STRING'}], 'type': 'TOOKOVER'}, {'properties': [{'property': 'year', 'type': 'STRING'}], 'type': 'BURNTANDLOOTED'}]\n",
      "        The relationships are the following:\n",
      "        ['(:Place)-[:CONTAINED]->(:Artifact)', '(:Place)-[:ISLOCATEDIN]->(:Place)', '(:Place)-[:ASSOCIATEDWITH]->(:Person)', '(:Person)-[:DISCOVERED]->(:Place)', '(:Person)-[:CREATED]->(:Artifact)', '(:Person)-[:RULED]->(:Place)', '(:Civilization)-[:USED]->(:Script)', '(:Civilization)-[:BUILT]->(:Structure)', '(:Civilization)-[:SETTLED]->(:Settlement)', '(:Civilization)-[:INFLUENCED]->(:Civilization)', '(:Civilization)-[:SETTLED_IN]->(:Location)', '(:Civilization)-[:BUILT_PALACE_IN]->(:Location)', '(:Group)-[:MIGRATEDTO]->(:Place)', '(:Group)-[:DESTROYED]->(:Place)', '(:Group)-[:LOCATEDAT]->(:Place)', '(:Group)-[:INVADED]->(:Place)', '(:Group)-[:ASSOCIATEDWITH]->(:Group)', '(:Location)-[:TRADED_WITH]->(:Location)', '(:Location)-[:SETTLED_IN]->(:Location)', '(:Location)-[:ADAPTED_FROM]->(:Civilization)', '(:Language)-[:RELATEDTO]->(:Language)', '(:People)-[:TOOKOVER]->(:Place)', '(:People)-[:BURNTANDLOOTED]->(:Place)', '(:People)-[:ADOPTED]->(:Deity)', '(:ObsidianNote)-[:CONTAINS_CHUNK]->(:ObsidianNoteChunk)', '(:ObsidianNoteChunk)-[:REFERENCES_NODE]->(:Structure)', '(:ObsidianNoteChunk)-[:REFERENCES_NODE]->(:Civilization)', '(:ObsidianNoteChunk)-[:REFERENCES_NODE]->(:Place)', '(:ObsidianNoteChunk)-[:REFERENCES_NODE]->(:Artifact)', '(:ObsidianNoteChunk)-[:REFERENCES_NODE]->(:Person)', '(:ObsidianNoteChunk)-[:REFERENCES_NODE]->(:Settlement)', '(:ObsidianNoteChunk)-[:REFERENCES_NODE]->(:Script)', '(:ObsidianNoteChunk)-[:REFERENCES_NODE]->(:Language)', '(:ObsidianNoteChunk)-[:REFERENCES_NODE]->(:Location)', '(:ObsidianNoteChunk)-[:REFERENCES_NODE]->(:Timeperiod)', '(:ObsidianNoteChunk)-[:REFERENCES_NODE]->(:Concept)', '(:ObsidianNoteChunk)-[:REFERENCES_NODE]->(:Deity)', '(:ObsidianNoteChunk)-[:REFERENCES_NODE]->(:People)', '(:ObsidianNoteChunk)-[:REFERENCES_NODE]->(:Group)', '(:ObsidianNoteChunk)-[:REFERENCES_NODE]->(:Object)', '(:ObsidianVaultNode)-[:CONTAINS_NOTE]->(:ObsidianNote)', '(:Object)-[:LOCATEDAT]->(:Place)']\n",
      "        \n"
     ]
    }
   ],
   "source": [
    "print(graph.schema)"
   ]
  },
  {
   "cell_type": "code",
   "execution_count": 12,
   "metadata": {},
   "outputs": [
    {
     "name": "stdout",
     "output_type": "stream",
     "text": [
      "\n",
      "\n",
      "\u001b[1m> Entering new GraphCypherQAChain chain...\u001b[0m\n",
      "Generated Cypher:\n",
      "\u001b[32;1m\u001b[1;3mMATCH (p:People {name: 'Mycenaeans'})-[:REFERENCES_NODE]-(o:ObsidianNoteChunk) RETURN o.id\u001b[0m\n",
      "Full Context:\n",
      "\u001b[32;1m\u001b[1;3m[]\u001b[0m\n",
      "\n",
      "\u001b[1m> Finished chain.\u001b[0m\n"
     ]
    },
    {
     "data": {
      "text/plain": [
       "\"I'm sorry, but I don't know the answer.\""
      ]
     },
     "execution_count": 12,
     "metadata": {},
     "output_type": "execute_result"
    }
   ],
   "source": [
    "cypher_chain.run(\"What are the IDs of the ObsidianNoteChunk nodes that have a relationship with the Mycenaeans?\")"
   ]
  },
  {
   "cell_type": "code",
   "execution_count": 1,
   "metadata": {},
   "outputs": [],
   "source": [
    "import graph_handling"
   ]
  },
  {
   "cell_type": "code",
   "execution_count": 2,
   "metadata": {},
   "outputs": [],
   "source": [
    "names = graph_handling.get_all_node_names()"
   ]
  },
  {
   "cell_type": "code",
   "execution_count": 3,
   "metadata": {},
   "outputs": [
    {
     "data": {
      "text/plain": [
       "['Greece',\n",
       " 'Mycenae',\n",
       " 'Absurdly Huge Stones And Giant Gravesites',\n",
       " 'Tholos Tomb',\n",
       " 'Knossos',\n",
       " 'Wanax',\n",
       " 'Mother Goddess',\n",
       " 'Mycenaeanpalaces',\n",
       " 'Heavilyarmoredsoldiers',\n",
       " 'Kingsandcommanders',\n",
       " 'Chariots',\n",
       " 'Collapse',\n",
       " 'Heinrich Schliemann',\n",
       " 'Troy',\n",
       " 'The Treasure Of Priam',\n",
       " 'Mycenae',\n",
       " 'Grave Circle A',\n",
       " 'Minoans',\n",
       " 'Crete',\n",
       " 'Minoan Palaces',\n",
       " 'Cretan Hieroglyphic Script',\n",
       " 'Hieroglyphic Script From Phaistos',\n",
       " 'Linear A',\n",
       " 'Akrotiri',\n",
       " 'Mycenaeans',\n",
       " 'Kingdom Of Pylos',\n",
       " 'Mycenaean Sparta',\n",
       " 'Linear B Script Tablets',\n",
       " 'Linear A',\n",
       " 'Linear B',\n",
       " 'Odyssey',\n",
       " 'Near East',\n",
       " 'Egypt',\n",
       " 'Lerna',\n",
       " 'House Of Tiles',\n",
       " 'Minoan Civilization',\n",
       " 'Crete',\n",
       " 'Sir Arthur Evans',\n",
       " 'Cnossus',\n",
       " 'Anonymous Greek Historian',\n",
       " 'The Parian Marble',\n",
       " 'Franchthi Cave',\n",
       " 'Greece',\n",
       " 'Iliad']"
      ]
     },
     "execution_count": 3,
     "metadata": {},
     "output_type": "execute_result"
    }
   ],
   "source": [
    "names"
   ]
  },
  {
   "cell_type": "code",
   "execution_count": 4,
   "metadata": {},
   "outputs": [
    {
     "name": "stdout",
     "output_type": "stream",
     "text": [
      "\n",
      "\n",
      "\u001b[1m> Entering new LLMChain chain...\u001b[0m\n",
      "Prompt after formatting:\n",
      "\u001b[32;1m\u001b[1;3mSystem: # Prompt for GPT-4:\n",
      "Question:\n",
      "\"Where did Heinrich Schliemann discover?\"\n",
      "\n",
      "List of Node Names from the Knowledge Graph:\n",
      "Greece, Mycenae, Absurdly Huge Stones And Giant Gravesites, Tholos Tomb, Knossos, Wanax, Mother Goddess, Mycenaeanpalaces, Heavilyarmoredsoldiers, Kingsandcommanders, Chariots, Collapse, Heinrich Schliemann, Troy, The Treasure Of Priam, Mycenae, Grave Circle A, Minoans, Crete, Minoan Palaces, Cretan Hieroglyphic Script, Hieroglyphic Script From Phaistos, Linear A, Akrotiri, Mycenaeans, Kingdom Of Pylos, Mycenaean Sparta, Linear B Script Tablets, Linear A, Linear B, Odyssey, Near East, Egypt, Lerna, House Of Tiles, Minoan Civilization, Crete, Sir Arthur Evans, Cnossus, Anonymous Greek Historian, The Parian Marble, Franchthi Cave, Greece, Iliad\n",
      "\n",
      "# Task for GPT-4:\n",
      "Analyze the provided list of names from the knowledge graph in the context of the question. Identify and list the names that are most relevant to the question, ordering them from the most important to less important. Do not include names that are not very important. Consider only the content of the question and do not use prior knowledge.\n",
      "\n",
      "Human: Tip: Make sure to answer in the correct format\u001b[0m\n",
      "\n",
      "\u001b[1m> Finished chain.\u001b[0m\n"
     ]
    }
   ],
   "source": [
    "relevant_names = graph_handling.get_relevant_nodes_from_question(graph_handling.GPT4, names, \"Where did Heinrich Schliemann discover?\", True)"
   ]
  },
  {
   "cell_type": "code",
   "execution_count": 5,
   "metadata": {},
   "outputs": [
    {
     "data": {
      "text/plain": [
       "NodeNameList(names=['Heinrich Schliemann', 'Troy', 'The Treasure Of Priam', 'Mycenae', 'Grave Circle A', 'Greece'])"
      ]
     },
     "execution_count": 5,
     "metadata": {},
     "output_type": "execute_result"
    }
   ],
   "source": [
    "relevant_names"
   ]
  },
  {
   "cell_type": "code",
   "execution_count": 31,
   "metadata": {},
   "outputs": [
    {
     "data": {
      "text/plain": [
       "[{'relatedNodes': [{'id': 'f9453227-664b-41bb-9b9e-21fe3d5acfce'},\n",
       "   {'id': 'b3c1a0e4-8eaf-47ed-b3d5-bf9953129af3'},\n",
       "   {'id': '139bea43-a0a8-4a4e-8a4d-6e8d8a7c954e'}]}]"
      ]
     },
     "execution_count": 31,
     "metadata": {},
     "output_type": "execute_result"
    }
   ],
   "source": [
    "graph_handling.get_graph_connector().query(\"\"\"\n",
    "    MATCH (n)\n",
    "    WHERE n.name IN ['Mycenae']\n",
    "    OPTIONAL MATCH (n)-[r]-(related:ObsidianNoteChunk)\n",
    "    RETURN collect({id: related.id}) as relatedNodes\n",
    "\"\"\")"
   ]
  },
  {
   "cell_type": "code",
   "execution_count": 6,
   "metadata": {},
   "outputs": [],
   "source": [
    "connected_to_troy = graph_handling.get_graph_connector().query(\"\"\"MATCH (n)\n",
    "WHERE n.name = 'Troy'\n",
    "OPTIONAL MATCH (n)-[r]-(related)\n",
    "RETURN n, collect(r) as relationships, collect(related) as relatedNodes\"\"\")"
   ]
  },
  {
   "cell_type": "code",
   "execution_count": 17,
   "metadata": {},
   "outputs": [],
   "source": [
    "connected_to_troy2 = graph_handling.get_graph_connector().query(\"\"\"\n",
    "MATCH (n)\n",
    "WHERE n.name = 'Troy'\n",
    "OPTIONAL MATCH (n)-[r]-(related)\n",
    "RETURN n, \n",
    "       collect(r) as relationships, \n",
    "       collect(\n",
    "           CASE WHEN 'ObsidianNoteChunk' IN labels(related) \n",
    "                THEN {label: 'ObsidianNoteChunk', file_name: related.file_name, chunk_number: related.chunk_number, id: related.id} \n",
    "                ELSE related \n",
    "           END\n",
    "       ) as relatedNodes\n",
    "\"\"\")"
   ]
  },
  {
   "cell_type": "code",
   "execution_count": 22,
   "metadata": {},
   "outputs": [
    {
     "data": {
      "text/plain": [
       "[({'profession': 'archaeologist',\n",
       "   'characteristics': 'brilliant linguist, questionable, problematic',\n",
       "   'name': 'Heinrich Schliemann',\n",
       "   'id': 'Heinrich Schliemann'},\n",
       "  'DISCOVERED',\n",
       "  {'discoverydate': '1870s',\n",
       "   'rebuildings': 'several layers of different rebuildings',\n",
       "   'importance': 'strategic location at mouth of water trade route',\n",
       "   'name': 'Troy',\n",
       "   'id': 'Troy'}),\n",
       " ({},\n",
       "  'REFERENCES_NODE',\n",
       "  {'discoverydate': '1870s',\n",
       "   'rebuildings': 'several layers of different rebuildings',\n",
       "   'importance': 'strategic location at mouth of water trade route',\n",
       "   'name': 'Troy',\n",
       "   'id': 'Troy'})]"
      ]
     },
     "execution_count": 22,
     "metadata": {},
     "output_type": "execute_result"
    }
   ],
   "source": [
    "# nodes that have a relationship with the node Troy\n",
    "# connected_to_troy2[0]['relatedNodes']\n",
    "\n",
    "connected_to_troy2[0]['relationships']\n",
    "# from here can grab id from nodes with label = ObsidianNoteChunk\n",
    "\n",
    "# the relationships key can also be used to have GPT reason about the relationships between\n",
    "# the Troy node and the other nodes (i.e. Heinrich Schliemann)"
   ]
  },
  {
   "cell_type": "code",
   "execution_count": 43,
   "metadata": {},
   "outputs": [
    {
     "data": {
      "text/plain": [
       "[{'n': {'appearance': 'Unknown',\n",
       "   'adaptationfromminoans': 'gravesites',\n",
       "   'wealthincrease': 'Yes',\n",
       "   'name': 'Mycenae',\n",
       "   'id': 'Mycenae'},\n",
       "  'relationships': [({'appearance': 'Unknown',\n",
       "     'adaptationfromminoans': 'gravesites',\n",
       "     'wealthincrease': 'Yes',\n",
       "     'name': 'Mycenae',\n",
       "     'id': 'Mycenae'},\n",
       "    'ADAPTED_FROM',\n",
       "    {}),\n",
       "   ({},\n",
       "    'REFERENCES_NODE',\n",
       "    {'appearance': 'Unknown',\n",
       "     'adaptationfromminoans': 'gravesites',\n",
       "     'wealthincrease': 'Yes',\n",
       "     'name': 'Mycenae',\n",
       "     'id': 'Mycenae'})],\n",
       "  'relatedNodes': [{'label': 'Unrelated'}, {'label': 'ObsidianNoteChunk'}]},\n",
       " {'n': {'discoverydate': 'after Troy',\n",
       "   'importance': 'burial sites, palace of Agamemnon',\n",
       "   'name': 'Mycenae',\n",
       "   'id': 'Mycenae'},\n",
       "  'relationships': [({},\n",
       "    'INFLUENCED',\n",
       "    {'discoverydate': 'after Troy',\n",
       "     'importance': 'burial sites, palace of Agamemnon',\n",
       "     'name': 'Mycenae',\n",
       "     'id': 'Mycenae'}),\n",
       "   ({},\n",
       "    'DISCOVERED',\n",
       "    {'discoverydate': 'after Troy',\n",
       "     'importance': 'burial sites, palace of Agamemnon',\n",
       "     'name': 'Mycenae',\n",
       "     'id': 'Mycenae'}),\n",
       "   ({},\n",
       "    'REFERENCES_NODE',\n",
       "    {'discoverydate': 'after Troy',\n",
       "     'importance': 'burial sites, palace of Agamemnon',\n",
       "     'name': 'Mycenae',\n",
       "     'id': 'Mycenae'}),\n",
       "   ({},\n",
       "    'REFERENCES_NODE',\n",
       "    {'discoverydate': 'after Troy',\n",
       "     'importance': 'burial sites, palace of Agamemnon',\n",
       "     'name': 'Mycenae',\n",
       "     'id': 'Mycenae'})],\n",
       "  'relatedNodes': [{'label': 'Unrelated'},\n",
       "   {'label': 'Unrelated'},\n",
       "   {'label': 'ObsidianNoteChunk'},\n",
       "   {'label': 'ObsidianNoteChunk'}]}]"
      ]
     },
     "execution_count": 43,
     "metadata": {},
     "output_type": "execute_result"
    }
   ],
   "source": [
    "graph_handling.get_graph_connector().query(\"\"\"\n",
    "MATCH (n)\n",
    "WHERE n.name = 'Mycenae'\n",
    "OPTIONAL MATCH (n)-[r]-(related)\n",
    "RETURN n, \n",
    "        collect(r) as relationships, \n",
    "        collect(\n",
    "            CASE\n",
    "                WHEN 'ObsidianNoteChunk' IN labels(related) \n",
    "                    THEN {label: 'ObsidianNoteChunk'}\n",
    "                WHEN NOT related.name IN []\n",
    "                    THEN {label: 'Unrelated'}\n",
    "                ELSE related\n",
    "            END\n",
    "        ) as relatedNodes\n",
    "\"\"\")"
   ]
  },
  {
   "cell_type": "code",
   "execution_count": 56,
   "metadata": {},
   "outputs": [],
   "source": [
    "def get_non_housekeeping_relationships_from_node_name(\n",
    "        node_name: str,\n",
    "        allowed_names: list[str] | None = None,\n",
    "    ) -> list[tuple[dict,str,dict]]:\n",
    "\n",
    "    allowed_node_syntax = \"\"\n",
    "    \n",
    "    if allowed_names:\n",
    "        allowed_node_syntax += \"WHEN NOT related.name IN [\"\n",
    "        allowed_node_syntax += \",\".join([f\"'{name}'\" for name in allowed_names])\n",
    "        allowed_node_syntax += \"]\\nTHEN {label: 'Unrelated'}\"\n",
    "    \n",
    "    query_results: list[dict] = graph_handling.get_graph_connector().query(f\"\"\"\n",
    "                MATCH (n)\n",
    "                WHERE n.name = '{node_name}'\"\"\"+\"\"\"\n",
    "                OPTIONAL MATCH (n)-[r]-(related)\n",
    "                RETURN n, \n",
    "                    collect(r) as relationships, \n",
    "                    collect(\n",
    "                        CASE\n",
    "                            WHEN 'ObsidianNoteChunk' IN labels(related) \n",
    "                                THEN {label: 'ObsidianNoteChunk'}\"\"\" +\n",
    "                                allowed_node_syntax + \"\"\"\n",
    "                            ELSE related \n",
    "                        END\n",
    "                    ) as relatedNodes\n",
    "                \"\"\")\n",
    "    \n",
    "    results: list[tuple[dict,str,dict]] = []\n",
    "\n",
    "    # could be more than one node with the same name\n",
    "    for node in query_results:\n",
    "        for relationship in node['relationships']:\n",
    "            # second item is edge type\n",
    "            # len checks are to make sure the node didn't get filtered out\n",
    "            if relationship[1] != 'REFERENCES_NODE' and len(relationship[0]) != 0 and len(relationship[2]) != 0:\n",
    "                results.append(relationship)\n",
    "\n",
    "    return results\n"
   ]
  },
  {
   "cell_type": "code",
   "execution_count": 60,
   "metadata": {},
   "outputs": [
    {
     "data": {
      "text/plain": [
       "[({'appearance': 'Unknown',\n",
       "   'adaptationfromminoans': 'gravesites',\n",
       "   'wealthincrease': 'Yes',\n",
       "   'name': 'Mycenae',\n",
       "   'id': 'Mycenae'},\n",
       "  'ADAPTED_FROM',\n",
       "  {'name': 'Minoan Civilization', 'id': 'Minoan Civilization'}),\n",
       " ({'name': 'Minoans',\n",
       "   'location': 'Crete',\n",
       "   'id': 'Minoans',\n",
       "   'timeperiod': '1700 - 1500 BCE',\n",
       "   'influence': 'earliest influences on Mycenaean Greeks'},\n",
       "  'INFLUENCED',\n",
       "  {'discoverydate': 'after Troy',\n",
       "   'importance': 'burial sites, palace of Agamemnon',\n",
       "   'name': 'Mycenae',\n",
       "   'id': 'Mycenae'}),\n",
       " ({'profession': 'archaeologist',\n",
       "   'characteristics': 'brilliant linguist, questionable, problematic',\n",
       "   'name': 'Heinrich Schliemann',\n",
       "   'id': 'Heinrich Schliemann'},\n",
       "  'DISCOVERED',\n",
       "  {'discoverydate': 'after Troy',\n",
       "   'importance': 'burial sites, palace of Agamemnon',\n",
       "   'name': 'Mycenae',\n",
       "   'id': 'Mycenae'})]"
      ]
     },
     "execution_count": 60,
     "metadata": {},
     "output_type": "execute_result"
    }
   ],
   "source": [
    "get_non_housekeeping_relationships_from_node_name('Mycenae')"
   ]
  },
  {
   "cell_type": "code",
   "execution_count": 61,
   "metadata": {},
   "outputs": [],
   "source": [
    "# GPT prompt for summarizing one of these relationships into a paragraph\n",
    "prompt = \"This is a relationship between two nodes in a Neo4j graph. Please use this information to give a summary of this relationship in a succinct paragraph that does not mention anything about a graph or nodes:\""
   ]
  },
  {
   "cell_type": "code",
   "execution_count": 62,
   "metadata": {},
   "outputs": [],
   "source": [
    "def summarize_relationship(\n",
    "    llm,\n",
    "    relationship: tuple[dict, str, dict],\n",
    "    verbose: bool = False,\n",
    "):\n",
    "    \"\"\"Uses LLM to summarize the relationship between two nodes.\"\"\"\n",
    "\n",
    "    prompt = graph_handling.ChatPromptTemplate.from_messages(\n",
    "        [\n",
    "            (\n",
    "                \"system\",\n",
    "                \"\"\"# Prompt for GPT-4:\n",
    "Relationship between two nodes:\n",
    "\"{relationship}\"\n",
    "\n",
    "# Task for GPT-4:\n",
    "This is a relationship between two nodes in a Neo4j graph. Please use this information to give a summary of this relationship in a succinct paragraph that does not mention anything about a graph or nodes.\n",
    "\"\"\",\n",
    "            ),\n",
    "        ]\n",
    "    )\n",
    "\n",
    "    chain = graph_handling.create_structured_output_chain(\n",
    "        str, llm, prompt, verbose=verbose)\n",
    "\n",
    "    return chain.run(relationship=relationship)"
   ]
  },
  {
   "cell_type": "code",
   "execution_count": 63,
   "metadata": {},
   "outputs": [
    {
     "name": "stdout",
     "output_type": "stream",
     "text": [
      "\n",
      "\n",
      "\u001b[1m> Entering new LLMChain chain...\u001b[0m\n",
      "Prompt after formatting:\n",
      "\u001b[32;1m\u001b[1;3mSystem: # Prompt for GPT-4:\n",
      "Relationship between two nodes:\n",
      "\"({'appearance': 'Unknown', 'adaptationfromminoans': 'gravesites', 'wealthincrease': 'Yes', 'name': 'Mycenae', 'id': 'Mycenae'}, 'ADAPTED_FROM', {'name': 'Minoan Civilization', 'id': 'Minoan Civilization'})\"\n",
      "\n",
      "# Task for GPT-4:\n",
      "This is a relationship between two nodes in a Neo4j graph. Please use this information to give a summary of this relationship in a succinct paragraph that does not mention anything about a graph or nodes.\n",
      "\u001b[0m\n",
      "\n",
      "\u001b[1m> Finished chain.\u001b[0m\n"
     ]
    },
    {
     "data": {
      "text/plain": [
       "'The Mycenae civilization, which is known for its increase in wealth but has an unknown appearance, adapted from the Minoan Civilization. This adaptation is evident from the gravesites of the Mycenae civilization.'"
      ]
     },
     "execution_count": 63,
     "metadata": {},
     "output_type": "execute_result"
    }
   ],
   "source": [
    "summarize_relationship(graph_handling.GPT4, get_non_housekeeping_relationships_from_node_name('Mycenae')[0], True)"
   ]
  },
  {
   "cell_type": "code",
   "execution_count": 12,
   "metadata": {},
   "outputs": [],
   "source": [
    "def get_chunk_ids_by_node_names(node_names: list[str]) -> list[str]:\n",
    "    \"\"\"Given a list of node names, returns the ids of the chunks that reference them.\n",
    "    \n",
    "    May contain duplicates.\n",
    "    \"\"\"\n",
    "\n",
    "    if len(node_names) == 0:\n",
    "        return []\n",
    "\n",
    "    ids: list[dict] = graph_handling.get_graph_connector().query(f\"\"\"\n",
    "                            MATCH (n)\n",
    "                            WHERE n.name IN [{\",\".join([f\"'{name}'\" for name in node_names])}]\n",
    "                            OPTIONAL MATCH (n)-[r]-(related:ObsidianNoteChunk)\"\"\" +\n",
    "                        \"\"\" RETURN collect({id: related.id}) as relatedNodes\n",
    "                        \"\"\")\n",
    "\n",
    "    return [list(d.values())[0] for d in ids[0]['relatedNodes']]"
   ]
  },
  {
   "cell_type": "code",
   "execution_count": 13,
   "metadata": {},
   "outputs": [
    {
     "name": "stdout",
     "output_type": "stream",
     "text": [
      "[{'relatedNodes': [{'id': 'f9453227-664b-41bb-9b9e-21fe3d5acfce'}, {'id': 'f9453227-664b-41bb-9b9e-21fe3d5acfce'}, {'id': 'bb0ab99e-debc-43ff-92f5-acca4167e99d'}, {'id': 'b3c1a0e4-8eaf-47ed-b3d5-bf9953129af3'}, {'id': 'b3c1a0e4-8eaf-47ed-b3d5-bf9953129af3'}, {'id': 'b3c1a0e4-8eaf-47ed-b3d5-bf9953129af3'}, {'id': 'b3c1a0e4-8eaf-47ed-b3d5-bf9953129af3'}, {'id': '139bea43-a0a8-4a4e-8a4d-6e8d8a7c954e'}, {'id': 'b3c1a0e4-8eaf-47ed-b3d5-bf9953129af3'}, {'id': 'c82fdc35-043c-4b58-8c20-0e97641a25ee'}]}]\n"
     ]
    }
   ],
   "source": [
    "chunks_from_question = get_chunk_ids_by_node_names(relevant_names.names)"
   ]
  },
  {
   "cell_type": "code",
   "execution_count": 15,
   "metadata": {},
   "outputs": [
    {
     "data": {
      "text/plain": [
       "{'139bea43-a0a8-4a4e-8a4d-6e8d8a7c954e',\n",
       " 'b3c1a0e4-8eaf-47ed-b3d5-bf9953129af3',\n",
       " 'bb0ab99e-debc-43ff-92f5-acca4167e99d',\n",
       " 'c82fdc35-043c-4b58-8c20-0e97641a25ee',\n",
       " 'f9453227-664b-41bb-9b9e-21fe3d5acfce'}"
      ]
     },
     "execution_count": 15,
     "metadata": {},
     "output_type": "execute_result"
    }
   ],
   "source": [
    "set(chunks_from_question)"
   ]
  }
 ],
 "metadata": {
  "kernelspec": {
   "display_name": "venv",
   "language": "python",
   "name": "python3"
  },
  "language_info": {
   "codemirror_mode": {
    "name": "ipython",
    "version": 3
   },
   "file_extension": ".py",
   "mimetype": "text/x-python",
   "name": "python",
   "nbconvert_exporter": "python",
   "pygments_lexer": "ipython3",
   "version": "3.10.11"
  }
 },
 "nbformat": 4,
 "nbformat_minor": 2
}
