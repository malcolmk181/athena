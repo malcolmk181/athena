{
 "cells": [
  {
   "cell_type": "code",
   "execution_count": 1,
   "metadata": {},
   "outputs": [],
   "source": [
    "import embedding_handling"
   ]
  },
  {
   "cell_type": "code",
   "execution_count": 2,
   "metadata": {},
   "outputs": [],
   "source": [
    "collection = embedding_handling.get_vector_store_collection()"
   ]
  },
  {
   "cell_type": "code",
   "execution_count": 9,
   "metadata": {},
   "outputs": [],
   "source": [
    "# from '09-02-23 - Lecture 2 - The Bronze Age.md', chunk 1\n",
    "# document id: 'e3aa4638-6cd0-4d7e-9c2e-45df31301983'\n",
    "# chunk id: 'cf9d24c1-a144-426f-b685-fe243d93eea3'\n",
    "lecture2_chunk1_embeddings = collection.get(\n",
    "    ids=['cf9d24c1-a144-426f-b685-fe243d93eea3'],\n",
    "    include=['embeddings']\n",
    ")['embeddings'][0]"
   ]
  },
  {
   "cell_type": "code",
   "execution_count": 3,
   "metadata": {},
   "outputs": [],
   "source": [
    "query = \"Where did Heinrich Schliemann discover?\"\n",
    "query_embedding = embedding_handling.get_embedding_from_text(query)"
   ]
  },
  {
   "cell_type": "code",
   "execution_count": 12,
   "metadata": {},
   "outputs": [
    {
     "name": "stderr",
     "output_type": "stream",
     "text": [
      "Number of requested results 10 is greater than number of elements in index 8, updating n_results = 8\n"
     ]
    }
   ],
   "source": [
    "# query_result = collection.query([query_embedding], n_results=3)\n",
    "query_result = collection.query([query_embedding])"
   ]
  },
  {
   "cell_type": "code",
   "execution_count": 17,
   "metadata": {},
   "outputs": [
    {
     "data": {
      "text/plain": [
       "dict"
      ]
     },
     "execution_count": 17,
     "metadata": {},
     "output_type": "execute_result"
    }
   ],
   "source": [
    "type(query_result)"
   ]
  },
  {
   "cell_type": "code",
   "execution_count": 16,
   "metadata": {},
   "outputs": [
    {
     "data": {
      "text/plain": [
       "['Heinrich Schliemann\\ndiscovers Troy in the 1870s - it’s now known to be a real place! Archaeology is having a revolution. Period of romanticism and philhellenism - Greece gaining independence from Ottoman empire.\\n\\nfound several layers of different rebuildings of Troy\\nTroy - very strategic location at mouth of water trade route\\n\\nvery destructive digging and some looting - dug a giant hole\\n\\n“The Treasure of Priam” - lots of wealth - gold & copper items\\n\\nbro liked to lie, was brilliant linguist but generally questionable & problematic\\n\\nFueled by success of Troy, Schliemann finds Mycenae\\n- again digs straight down, into burial sites “Grave Circle A”\\n- finds again lots of gold - remember no gold found in Greece, had to have come from somewhere else via war / trade\\n- “palace of Agamemnon”\\n\\nStill scholarship being conducted on these findings with new information, techniques, and technology. DNA analysis\\n\\nMinoans 1700 - 1500 BCE\\n- don’t know what language they spoke or what they called themselves\\n    - we call them Minoans after Greek legend Minos\\n- earliest influences on Mycenaean Greeks comes from interactions with Minoans\\n- Crete is rather equidistant between mainland Greece, Egypt, Cyprus, not terribly far from Italy\\n    - lots of communication with all the major powers of the time\\n\\nMinoan “Palaces”\\n- administrative, economic, and religious centers\\n    - palace and town integrated though these centers into a centripetal administrative whole\\n- similarities across Crete - surrounding settlements\\n- where they centralized control or competing palaces?\\n- Phaistos, Knossos, Malia, Zakros, Bournia, Kommos\\n    - can visit massive Knossos palace\\n- important because Mycenaeans adopt this palace structure\\n- “redistributed economy”\\n    - magazines - mass storage\\n    - lots of materials came in, were worked, and then sent back out for trade',\n",
       " 'Sir Arthur Evans discovers huge complex at Cnossus on island of Crete - spent much time & money restoring it\\n- Cnossus center of powerful naval state\\n\\nIn 3rd century BC, anonymous Greek historian starts history in 1582 BC, when Greek tradition claimed that kings began to rule in Athens. He created The Parian Marble, that outlined a summary of his findings in a public gymnasium for all to see.\\n\\nFranchthi Cave in southeastern Greece inhabited continuously from c 20,000 to 3000 BC. 12k years ago, Greece changed significantly from melting ice sheets & rising sea levels. Hunter gatherers until 7000 - 3000 BC.\\n\\nRecorded history doesn’t begin until 8th century BC - before that is information from archeology and pulled from epic poems Iliad and Odyssey.\\n\\nsociety (late stone age)\\n- possibly up to 80% of men in city-state were farmers\\n- villages tended to stay around 100 - 300 people in size\\n- mostly egalitarian culture (aside from gender, age, skill) - very cooperative\\n- start falling behind technological & population growth of Near East & Egypt\\n\\nGreece in Early & Middle Bronze Ages\\n- bronze smithing arrives in Greece around 3000 BC, widespread in Europe by 2500 BC\\n- bronze started accelerating difference in classes\\n\\nLerna example of big change\\nsmall village for hundreds of years\\nexpanded rapidly in bronze age into bustling town with stone walls & large buildings\\n“corridor house” - the House of Tiles - similar structures seen in a couple other places\\nsign of steeper sociopolitical hierarchy\\nuncertain of language spoke here (pre-Greek)\\n\\nMinoan Civilization',\n",
       " \"http://www.livescience.com/51984-ancient-spartan-palace-unearthed.html\\n- Mycenaean Sparta - “Ayios Vassileios” - burnt to ground in 14th century bc - potentially lost Spartan palace\\n- Linear B script tablets - kept unbaked for temporary use - baked by fire\\n    - names, records, intricate bureaucracy\\n    - these tablets would only be found in an administrative center in Mycenaean culture\\n\\nhttps://www.forbes.com/sites/kristinakillgrove/2015/08/26/the-most-interesting-thing-about-that-ancient-spartan-palace-isnt-the-palace-its-the-language/?sh=3a52208b478e\\n- lots of imported & otherwise high value items that show the importance of the site\\n- “Linear B is probably related to Linear A, which was used for writing down the Minoan language. \\xa0Texts in both Linear A and Linear B were initially found at\\xa0Knossos\\xa0on Crete by the renowned archaeologist Sir Arthur Evans at the turn of the 20th century”\\n- “When Linear B tablets were also found on the Greek mainland, Ventris got the idea to search the tablets from Crete for unique words--and he found them, in the form of place names. Building on\\xa0Alice Kober's discovery that Linear B was a syllabary, Ventris unlocked Linear B, showing that it is an early form of Greek and that, importantly, Knossos was a part of Mycenaean Greece in its waning years. \\xa0But Linear A, although it shares some symbols with Linear B, is to this day undeciphered.”\\n\\nAncGrc pp. 12-53 (Ch. 1, “Early Greece and the Bronze Age”)\\n\\nBefore late 1800s, no one knew advanced civilizations had existed in the Aegean during the Bronze Age.\\n\\n1871 - eccentric businessman Heinrich Schliemann is convinced that Troy was a real place, and the Iliad and the Odyssey referenced real civilizations\\n- discovers ruins of Troy\\n- excavates ruins of Mycenae - finds immense wealth\",\n",
       " 'Mycenae\\n- 1876 excavations - massive bronze age walled city\\n- habitation since Neolithic times\\n- many characteristics of what we find in Crete\\n- more militaristic - big walls - swords - art of warriors\\n- importing metallic materials not found on Greek peninsula (tin, bronze, gold)\\n- exporting textiles, olive oil, perfume\\n- massive stone architecture\\n    - requires significant control & organization to quarry stones & build huge walls\\n- 1300 - 1250 BC is peak Mycenae\\n- beehive tomb, tholos\\n- wrote using Linear B\\n    - translated in 1952\\n    - thousands of tablets, temporary annual records, unintentionally preserved from fires\\n    - scribes kept very detailed records of everything\\n        - scribes very unusually highly trained & literate\\n    - obsessive listing of personnel, livestock, agricultural & manufactured goods\\n    - “secondary” economy largely unknown - exports, trade w/ east\\n    - Linear B is Minoan script, but recording Greek language\\n    - Mycenaeans adopted Linear A for same purpose - to record palace information\\n- palaces controlling & recording high levels of organization, production, trade\\n- can see history of women in tablets as well\\n    - wives of 1% powerful men\\n    - women working in religious venues / sanctuaries\\n    - most women are enslaved laborers in textile industry - see lots of them come from Anatolia\\n- lots of enslaved labor (women & children) coming from coastal Anatolia\\n- 1400 - 1300 BC we see transition from Linear A to Linear B in Knossos\\n    - still not sure how Mycenaeans started appearing so much in Crete\\n\\nKingdom of Pylos\\n- split into 12 regions\\n- split between 2 halves of the state, perhaps from earlier independent districts',\n",
       " 'Minoan Civilization\\n\\nCrete\\n- settled in 7000 BC by Neolithic farmers & stock raisers probably from Anatolia\\n- disruption in 2200 BC, but not destruction\\n- 2100 BC, complete recovery & growth\\n- big palaces at Cnossus, Phaistos, Mallia, Zakro around 2000 BC\\n- palace - multifunctional mazes with quarters, workshops, and storerooms, all clustered around a large central courtyard\\n    - Cnossus - major reconstruction in 1700 BC, later reconstructions until 1375 BC\\n    - center for state\\n    - control of several hundred square miles\\n    - adopted “redistributive” system from Egypt & Near East\\n    - large control over distribution of goods, labor\\n- Cretans traded extensively with Cyclades, some off & on contact with Near East\\n    - became trade powerhouse in Middle Bronze Age - equidistant from Greece, Egypt, Near East\\n- c 1900 BC Linear A is developed for managerial work\\n\\nKnossos\\n\\nMinoan art & trade influences seen in Aegean - city of Akrotiri on island of Thera (modern Santorini) buried in volcanic ash c 1628 BC. Shows range of Minoan influence, 70 miles North of Crete.\\n\\nMinoans definitely had slaves (captured and traded women & children). Outside of slaves and ruling palace, seems like otherwise not much class inequality.\\n\\nUnsure exactly of the ruling structure - Minoan art notably lacks images of a King - so might have been ruling family.\\n\\nMinoan religion may be focused on fertility. Worship of “Minoan Lady”.\\n\\nGreece & the Aegean in the Late Bronze Age (1600 - 1200 BC)\\n\\nConnection between Cretans & Greeks began in 2000 BC when they started trading.\\n\\nGreeks adopted hella shit from Minoans - art, government form, writing form\\n\\nBy about 1450 BC, Greeks were living in Crete. By 800 BC, Cretans looked more like Greeks.\\n\\nMycenae seemingly appeared on the scene out of no where\\n\\nLarge shaft graves - stacks of burials - show wildly increasing wealth as time goes on\\n\\nMycenaeans adapted Minoan gravesites and created **tholos**** (tholoi plural) - huge beehive-like graves inside hills',\n",
       " 'absurdly huge stones and giant gravesites\\n\\nthought in dark ages to be created by gods\\n\\ntholos tomb\\n\\nMycenaeans razed and took over Crete by at least 1500 BC. Take over Knossos as center.\\n\\nKnossos burnt & looted in 1375 BC, possibly by mainland Mycenaeans. Knossos continued to be inhabited, but lost its place as ruler over Crete.\\n\\nYears of Glory (1400 - 1200 BC)\\n\\nHeight of Mycenaean rule\\n- at least 15 huge palaces found all over the place\\n- palace complexes were administrative, economic, and religious centers - but Mycenaean palaces were walled off from the relatively small settlements below\\n    - palaces probably didn’t rule more than ~400 sq. mi.\\n        - aside from Pylos, which ruled 1250 sq. mi.\\n- from 1500 to 1200 BC, Egypt, Near East, and Aegean were integrated in international diplomacy, wars, trade, and cultural transmission\\n- Mycenaeans probably managed to avoid most major squabbling as only a minor political power\\n    - Mycenaean Greece was probably relatively peaceful and prosperous\\n- palaces were very similar to Minoan palaces but\\n    - definitely smaller & less sophisticated\\n    - had a megaron instead of large courtyard\\n    - giant walls and on top of hills\\n    - art more focused on warriors than nature\\n- Mycenaeans appear from other records to be important, but not the biggest players like Egypt and the Hittites\\n- Mention of a King (wanax) in Linear B tablets from both Cnossus & Pylos\\n    - no evidence that wanax was considered divine or a priest-king of theocratic state\\n    - definitely a warrior-king\\n- Mycenaeans adopted Minoan gods around 1600 BC, but worshipped in different places (cult centers rather than caves & mountains)\\n    - primarily worshipped the “Mother Goddess”, though there were other male & female gods\\n    - only the goddesses were ever pictured in art - not sure why male gods weren’t',\n",
       " 'Minoans had scribes\\n- still undeciphered\\n- 3 different scripts\\n    - Cretan hieroglyphic script - pictographic\\n    - another hieroglyphic script from Phaistos\\n    - Linear A\\n\\nMinoans had lots of influence throughout Aegean\\n- found Minoan settlement in destroyed Akrotiri\\n- volcanic eruption destroyed island, encased everything in ash\\n\\nMycenaeans 1600 - 1200 BCE\\n- good to know these dates for testing lol\\n- by this time, Minoan influence is fanning out and interacting with Greek mainland & Aegean',\n",
       " 'war\\n- mycenaean palaces “scream war”\\n- heavily armored soldiers\\n- kings and commanders fought in battle\\n- chariots were adopted from Near East, but were not really used in warfare because of how scraggly Greece was\\n    - in battle, chariots more so used for transport to battle (as mentioned in Homer’s epics)\\n    - chariots used primarily as signs of prestige\\n    - Knossos & Pylos around 200 chariots each\\n        - little compared to 2500 that Ramses II claimed to have defeated in a single battle\\n\\ncollapse\\n- at their height, all the giant palaces were destroyed by fire starting in 1200 BC, and by 1100 BC, they were all either destroyed or reduced to small towns\\n- Mycenaeans dispersed in all directions\\n- In Crete, fled to the mountains\\n- around 1200, the entire eastern Mediterranean was involved in war\\n    - Hittite empire fell apart\\n    - Anatolia & Syria suffered lots of damage\\n    - Egypt invaded by “marauding sea peoples” multiple times (led by Libyans?)\\n    - Philistines, assumedly made up in part by Mycenaeans\\n    - Troy destroyed (by Mycenaeans according to Homer’s epics - but we can’t confirm this archeologically)']"
      ]
     },
     "execution_count": 16,
     "metadata": {},
     "output_type": "execute_result"
    }
   ],
   "source": [
    "query_result['documents'][0]"
   ]
  },
  {
   "cell_type": "code",
   "execution_count": 18,
   "metadata": {},
   "outputs": [],
   "source": [
    "from langchain.chat_models import ChatOpenAI\n",
    "from langchain.schema import HumanMessage, SystemMessage"
   ]
  },
  {
   "cell_type": "code",
   "execution_count": 49,
   "metadata": {},
   "outputs": [],
   "source": [
    "chat = ChatOpenAI(temperature=0, model=\"gpt-3.5-turbo\")"
   ]
  },
  {
   "cell_type": "code",
   "execution_count": 50,
   "metadata": {},
   "outputs": [],
   "source": [
    "\n",
    "\n",
    "messages = [\n",
    "    SystemMessage(\n",
    "        content=\"You are a helpful assistant that converts user queries into declarative statements for the purposes of document retrieval using embedding cosine similarity.\"\n",
    "    ),\n",
    "    HumanMessage(\n",
    "        content=f\"Please convert the following user query into a declarative statement for document retrieval purposes. Focus on capturing the main topic and specific inquiry of the user's question. User's Question: {query}\"\n",
    "    ),\n",
    "]\n",
    "result = chat(messages)"
   ]
  },
  {
   "cell_type": "code",
   "execution_count": 51,
   "metadata": {},
   "outputs": [
    {
     "data": {
      "text/plain": [
       "AIMessage(content='Heinrich Schliemann discovered a specific location.')"
      ]
     },
     "execution_count": 51,
     "metadata": {},
     "output_type": "execute_result"
    }
   ],
   "source": [
    "result"
   ]
  },
  {
   "cell_type": "code",
   "execution_count": 63,
   "metadata": {},
   "outputs": [],
   "source": [
    "modified_query_embedding = embedding_handling.get_embedding_from_text(result.content)"
   ]
  },
  {
   "cell_type": "code",
   "execution_count": 64,
   "metadata": {},
   "outputs": [
    {
     "name": "stderr",
     "output_type": "stream",
     "text": [
      "Number of requested results 10 is greater than number of elements in index 8, updating n_results = 8\n"
     ]
    }
   ],
   "source": [
    "modified_query_result = collection.query([modified_query_embedding])"
   ]
  },
  {
   "cell_type": "code",
   "execution_count": 54,
   "metadata": {},
   "outputs": [
    {
     "data": {
      "text/plain": [
       "{'ids': [['b3c1a0e4-8eaf-47ed-b3d5-bf9953129af3',\n",
       "   'c82fdc35-043c-4b58-8c20-0e97641a25ee',\n",
       "   'bb0ab99e-debc-43ff-92f5-acca4167e99d',\n",
       "   '139bea43-a0a8-4a4e-8a4d-6e8d8a7c954e',\n",
       "   'a8ba826e-e733-41cc-9adf-1661afe1b6b0',\n",
       "   'f9453227-664b-41bb-9b9e-21fe3d5acfce',\n",
       "   'ca0dba15-f991-444d-a105-baf3733ea4e6',\n",
       "   '08b66ca1-419b-48d9-8ca2-0f6987da4737']],\n",
       " 'distances': [[0.1339134886938973,\n",
       "   0.19643870203959835,\n",
       "   0.19666097315644826,\n",
       "   0.21127677515727616,\n",
       "   0.2205950616590019,\n",
       "   0.22761585378318516,\n",
       "   0.23223610245222803,\n",
       "   0.24915482461278615]],\n",
       " 'metadatas': [[{'document_uuid': '729a947b-ab17-4059-9d58-089f9173598c'},\n",
       "   {'document_uuid': '168cf4f2-1d88-4633-9380-35bf4dac6957'},\n",
       "   {'document_uuid': '168cf4f2-1d88-4633-9380-35bf4dac6957'},\n",
       "   {'document_uuid': '729a947b-ab17-4059-9d58-089f9173598c'},\n",
       "   {'document_uuid': '168cf4f2-1d88-4633-9380-35bf4dac6957'},\n",
       "   {'document_uuid': '168cf4f2-1d88-4633-9380-35bf4dac6957'},\n",
       "   {'document_uuid': '729a947b-ab17-4059-9d58-089f9173598c'},\n",
       "   {'document_uuid': '168cf4f2-1d88-4633-9380-35bf4dac6957'}]],\n",
       " 'embeddings': None,\n",
       " 'documents': [['Heinrich Schliemann\\ndiscovers Troy in the 1870s - it’s now known to be a real place! Archaeology is having a revolution. Period of romanticism and philhellenism - Greece gaining independence from Ottoman empire.\\n\\nfound several layers of different rebuildings of Troy\\nTroy - very strategic location at mouth of water trade route\\n\\nvery destructive digging and some looting - dug a giant hole\\n\\n“The Treasure of Priam” - lots of wealth - gold & copper items\\n\\nbro liked to lie, was brilliant linguist but generally questionable & problematic\\n\\nFueled by success of Troy, Schliemann finds Mycenae\\n- again digs straight down, into burial sites “Grave Circle A”\\n- finds again lots of gold - remember no gold found in Greece, had to have come from somewhere else via war / trade\\n- “palace of Agamemnon”\\n\\nStill scholarship being conducted on these findings with new information, techniques, and technology. DNA analysis\\n\\nMinoans 1700 - 1500 BCE\\n- don’t know what language they spoke or what they called themselves\\n    - we call them Minoans after Greek legend Minos\\n- earliest influences on Mycenaean Greeks comes from interactions with Minoans\\n- Crete is rather equidistant between mainland Greece, Egypt, Cyprus, not terribly far from Italy\\n    - lots of communication with all the major powers of the time\\n\\nMinoan “Palaces”\\n- administrative, economic, and religious centers\\n    - palace and town integrated though these centers into a centripetal administrative whole\\n- similarities across Crete - surrounding settlements\\n- where they centralized control or competing palaces?\\n- Phaistos, Knossos, Malia, Zakros, Bournia, Kommos\\n    - can visit massive Knossos palace\\n- important because Mycenaeans adopt this palace structure\\n- “redistributed economy”\\n    - magazines - mass storage\\n    - lots of materials came in, were worked, and then sent back out for trade',\n",
       "   'Sir Arthur Evans discovers huge complex at Cnossus on island of Crete - spent much time & money restoring it\\n- Cnossus center of powerful naval state\\n\\nIn 3rd century BC, anonymous Greek historian starts history in 1582 BC, when Greek tradition claimed that kings began to rule in Athens. He created The Parian Marble, that outlined a summary of his findings in a public gymnasium for all to see.\\n\\nFranchthi Cave in southeastern Greece inhabited continuously from c 20,000 to 3000 BC. 12k years ago, Greece changed significantly from melting ice sheets & rising sea levels. Hunter gatherers until 7000 - 3000 BC.\\n\\nRecorded history doesn’t begin until 8th century BC - before that is information from archeology and pulled from epic poems Iliad and Odyssey.\\n\\nsociety (late stone age)\\n- possibly up to 80% of men in city-state were farmers\\n- villages tended to stay around 100 - 300 people in size\\n- mostly egalitarian culture (aside from gender, age, skill) - very cooperative\\n- start falling behind technological & population growth of Near East & Egypt\\n\\nGreece in Early & Middle Bronze Ages\\n- bronze smithing arrives in Greece around 3000 BC, widespread in Europe by 2500 BC\\n- bronze started accelerating difference in classes\\n\\nLerna example of big change\\nsmall village for hundreds of years\\nexpanded rapidly in bronze age into bustling town with stone walls & large buildings\\n“corridor house” - the House of Tiles - similar structures seen in a couple other places\\nsign of steeper sociopolitical hierarchy\\nuncertain of language spoke here (pre-Greek)\\n\\nMinoan Civilization',\n",
       "   \"http://www.livescience.com/51984-ancient-spartan-palace-unearthed.html\\n- Mycenaean Sparta - “Ayios Vassileios” - burnt to ground in 14th century bc - potentially lost Spartan palace\\n- Linear B script tablets - kept unbaked for temporary use - baked by fire\\n    - names, records, intricate bureaucracy\\n    - these tablets would only be found in an administrative center in Mycenaean culture\\n\\nhttps://www.forbes.com/sites/kristinakillgrove/2015/08/26/the-most-interesting-thing-about-that-ancient-spartan-palace-isnt-the-palace-its-the-language/?sh=3a52208b478e\\n- lots of imported & otherwise high value items that show the importance of the site\\n- “Linear B is probably related to Linear A, which was used for writing down the Minoan language. \\xa0Texts in both Linear A and Linear B were initially found at\\xa0Knossos\\xa0on Crete by the renowned archaeologist Sir Arthur Evans at the turn of the 20th century”\\n- “When Linear B tablets were also found on the Greek mainland, Ventris got the idea to search the tablets from Crete for unique words--and he found them, in the form of place names. Building on\\xa0Alice Kober's discovery that Linear B was a syllabary, Ventris unlocked Linear B, showing that it is an early form of Greek and that, importantly, Knossos was a part of Mycenaean Greece in its waning years. \\xa0But Linear A, although it shares some symbols with Linear B, is to this day undeciphered.”\\n\\nAncGrc pp. 12-53 (Ch. 1, “Early Greece and the Bronze Age”)\\n\\nBefore late 1800s, no one knew advanced civilizations had existed in the Aegean during the Bronze Age.\\n\\n1871 - eccentric businessman Heinrich Schliemann is convinced that Troy was a real place, and the Iliad and the Odyssey referenced real civilizations\\n- discovers ruins of Troy\\n- excavates ruins of Mycenae - finds immense wealth\",\n",
       "   'Mycenae\\n- 1876 excavations - massive bronze age walled city\\n- habitation since Neolithic times\\n- many characteristics of what we find in Crete\\n- more militaristic - big walls - swords - art of warriors\\n- importing metallic materials not found on Greek peninsula (tin, bronze, gold)\\n- exporting textiles, olive oil, perfume\\n- massive stone architecture\\n    - requires significant control & organization to quarry stones & build huge walls\\n- 1300 - 1250 BC is peak Mycenae\\n- beehive tomb, tholos\\n- wrote using Linear B\\n    - translated in 1952\\n    - thousands of tablets, temporary annual records, unintentionally preserved from fires\\n    - scribes kept very detailed records of everything\\n        - scribes very unusually highly trained & literate\\n    - obsessive listing of personnel, livestock, agricultural & manufactured goods\\n    - “secondary” economy largely unknown - exports, trade w/ east\\n    - Linear B is Minoan script, but recording Greek language\\n    - Mycenaeans adopted Linear A for same purpose - to record palace information\\n- palaces controlling & recording high levels of organization, production, trade\\n- can see history of women in tablets as well\\n    - wives of 1% powerful men\\n    - women working in religious venues / sanctuaries\\n    - most women are enslaved laborers in textile industry - see lots of them come from Anatolia\\n- lots of enslaved labor (women & children) coming from coastal Anatolia\\n- 1400 - 1300 BC we see transition from Linear A to Linear B in Knossos\\n    - still not sure how Mycenaeans started appearing so much in Crete\\n\\nKingdom of Pylos\\n- split into 12 regions\\n- split between 2 halves of the state, perhaps from earlier independent districts',\n",
       "   'absurdly huge stones and giant gravesites\\n\\nthought in dark ages to be created by gods\\n\\ntholos tomb\\n\\nMycenaeans razed and took over Crete by at least 1500 BC. Take over Knossos as center.\\n\\nKnossos burnt & looted in 1375 BC, possibly by mainland Mycenaeans. Knossos continued to be inhabited, but lost its place as ruler over Crete.\\n\\nYears of Glory (1400 - 1200 BC)\\n\\nHeight of Mycenaean rule\\n- at least 15 huge palaces found all over the place\\n- palace complexes were administrative, economic, and religious centers - but Mycenaean palaces were walled off from the relatively small settlements below\\n    - palaces probably didn’t rule more than ~400 sq. mi.\\n        - aside from Pylos, which ruled 1250 sq. mi.\\n- from 1500 to 1200 BC, Egypt, Near East, and Aegean were integrated in international diplomacy, wars, trade, and cultural transmission\\n- Mycenaeans probably managed to avoid most major squabbling as only a minor political power\\n    - Mycenaean Greece was probably relatively peaceful and prosperous\\n- palaces were very similar to Minoan palaces but\\n    - definitely smaller & less sophisticated\\n    - had a megaron instead of large courtyard\\n    - giant walls and on top of hills\\n    - art more focused on warriors than nature\\n- Mycenaeans appear from other records to be important, but not the biggest players like Egypt and the Hittites\\n- Mention of a King (wanax) in Linear B tablets from both Cnossus & Pylos\\n    - no evidence that wanax was considered divine or a priest-king of theocratic state\\n    - definitely a warrior-king\\n- Mycenaeans adopted Minoan gods around 1600 BC, but worshipped in different places (cult centers rather than caves & mountains)\\n    - primarily worshipped the “Mother Goddess”, though there were other male & female gods\\n    - only the goddesses were ever pictured in art - not sure why male gods weren’t',\n",
       "   'Minoan Civilization\\n\\nCrete\\n- settled in 7000 BC by Neolithic farmers & stock raisers probably from Anatolia\\n- disruption in 2200 BC, but not destruction\\n- 2100 BC, complete recovery & growth\\n- big palaces at Cnossus, Phaistos, Mallia, Zakro around 2000 BC\\n- palace - multifunctional mazes with quarters, workshops, and storerooms, all clustered around a large central courtyard\\n    - Cnossus - major reconstruction in 1700 BC, later reconstructions until 1375 BC\\n    - center for state\\n    - control of several hundred square miles\\n    - adopted “redistributive” system from Egypt & Near East\\n    - large control over distribution of goods, labor\\n- Cretans traded extensively with Cyclades, some off & on contact with Near East\\n    - became trade powerhouse in Middle Bronze Age - equidistant from Greece, Egypt, Near East\\n- c 1900 BC Linear A is developed for managerial work\\n\\nKnossos\\n\\nMinoan art & trade influences seen in Aegean - city of Akrotiri on island of Thera (modern Santorini) buried in volcanic ash c 1628 BC. Shows range of Minoan influence, 70 miles North of Crete.\\n\\nMinoans definitely had slaves (captured and traded women & children). Outside of slaves and ruling palace, seems like otherwise not much class inequality.\\n\\nUnsure exactly of the ruling structure - Minoan art notably lacks images of a King - so might have been ruling family.\\n\\nMinoan religion may be focused on fertility. Worship of “Minoan Lady”.\\n\\nGreece & the Aegean in the Late Bronze Age (1600 - 1200 BC)\\n\\nConnection between Cretans & Greeks began in 2000 BC when they started trading.\\n\\nGreeks adopted hella shit from Minoans - art, government form, writing form\\n\\nBy about 1450 BC, Greeks were living in Crete. By 800 BC, Cretans looked more like Greeks.\\n\\nMycenae seemingly appeared on the scene out of no where\\n\\nLarge shaft graves - stacks of burials - show wildly increasing wealth as time goes on\\n\\nMycenaeans adapted Minoan gravesites and created **tholos**** (tholoi plural) - huge beehive-like graves inside hills',\n",
       "   'Minoans had scribes\\n- still undeciphered\\n- 3 different scripts\\n    - Cretan hieroglyphic script - pictographic\\n    - another hieroglyphic script from Phaistos\\n    - Linear A\\n\\nMinoans had lots of influence throughout Aegean\\n- found Minoan settlement in destroyed Akrotiri\\n- volcanic eruption destroyed island, encased everything in ash\\n\\nMycenaeans 1600 - 1200 BCE\\n- good to know these dates for testing lol\\n- by this time, Minoan influence is fanning out and interacting with Greek mainland & Aegean',\n",
       "   'war\\n- mycenaean palaces “scream war”\\n- heavily armored soldiers\\n- kings and commanders fought in battle\\n- chariots were adopted from Near East, but were not really used in warfare because of how scraggly Greece was\\n    - in battle, chariots more so used for transport to battle (as mentioned in Homer’s epics)\\n    - chariots used primarily as signs of prestige\\n    - Knossos & Pylos around 200 chariots each\\n        - little compared to 2500 that Ramses II claimed to have defeated in a single battle\\n\\ncollapse\\n- at their height, all the giant palaces were destroyed by fire starting in 1200 BC, and by 1100 BC, they were all either destroyed or reduced to small towns\\n- Mycenaeans dispersed in all directions\\n- In Crete, fled to the mountains\\n- around 1200, the entire eastern Mediterranean was involved in war\\n    - Hittite empire fell apart\\n    - Anatolia & Syria suffered lots of damage\\n    - Egypt invaded by “marauding sea peoples” multiple times (led by Libyans?)\\n    - Philistines, assumedly made up in part by Mycenaeans\\n    - Troy destroyed (by Mycenaeans according to Homer’s epics - but we can’t confirm this archeologically)']]}"
      ]
     },
     "execution_count": 54,
     "metadata": {},
     "output_type": "execute_result"
    }
   ],
   "source": [
    "modified_query_result"
   ]
  },
  {
   "cell_type": "code",
   "execution_count": 55,
   "metadata": {},
   "outputs": [],
   "source": [
    "from chromadb import QueryResult"
   ]
  },
  {
   "cell_type": "code",
   "execution_count": 65,
   "metadata": {},
   "outputs": [],
   "source": [
    "def query_result_to_strings(\n",
    "        query_result: QueryResult,\n",
    "        similarity_cutoff: float = 0.2,\n",
    "        doc_limit: int = 10\n",
    "    ) -> list[str]:\n",
    "    \"\"\"Given a chromadb QueryResult, return a list of strings from the most relevant documents\n",
    "    that are within the cosine similarity difference of the cutoff.\n",
    "    \"\"\"\n",
    "\n",
    "    results: list[str] = []\n",
    "\n",
    "    for i, distance in enumerate(query_result['distances'][0]):\n",
    "        if distance > similarity_cutoff or i > doc_limit - 1:\n",
    "            break\n",
    "\n",
    "        results.append(query_result['documents'][0][i])\n",
    "\n",
    "    return results"
   ]
  },
  {
   "cell_type": "code",
   "execution_count": 66,
   "metadata": {},
   "outputs": [],
   "source": [
    "def query_result_to_chunk_ids(\n",
    "        query_result: QueryResult,\n",
    "        similarity_cutoff: float = 0.2,\n",
    "        doc_limit: int = 10\n",
    "    ) -> list[str]:\n",
    "    \"\"\"Given a chromadb QueryResult, return a list of chunk ids from the most relevant documents\n",
    "    that are within the cosine similarity difference of the cutoff.\n",
    "    \"\"\"\n",
    "\n",
    "    results: list[str] = []\n",
    "\n",
    "    for i, distance in enumerate(query_result['distances'][0]):\n",
    "        if distance > similarity_cutoff or i > doc_limit - 1:\n",
    "            break\n",
    "\n",
    "        results.append(query_result['ids'][0][i])\n",
    "\n",
    "    return results"
   ]
  },
  {
   "cell_type": "code",
   "execution_count": 67,
   "metadata": {},
   "outputs": [],
   "source": [
    "docs = query_result_to_strings(modified_query_result)"
   ]
  },
  {
   "cell_type": "code",
   "execution_count": 68,
   "metadata": {},
   "outputs": [
    {
     "data": {
      "text/plain": [
       "['Heinrich Schliemann\\ndiscovers Troy in the 1870s - it’s now known to be a real place! Archaeology is having a revolution. Period of romanticism and philhellenism - Greece gaining independence from Ottoman empire.\\n\\nfound several layers of different rebuildings of Troy\\nTroy - very strategic location at mouth of water trade route\\n\\nvery destructive digging and some looting - dug a giant hole\\n\\n“The Treasure of Priam” - lots of wealth - gold & copper items\\n\\nbro liked to lie, was brilliant linguist but generally questionable & problematic\\n\\nFueled by success of Troy, Schliemann finds Mycenae\\n- again digs straight down, into burial sites “Grave Circle A”\\n- finds again lots of gold - remember no gold found in Greece, had to have come from somewhere else via war / trade\\n- “palace of Agamemnon”\\n\\nStill scholarship being conducted on these findings with new information, techniques, and technology. DNA analysis\\n\\nMinoans 1700 - 1500 BCE\\n- don’t know what language they spoke or what they called themselves\\n    - we call them Minoans after Greek legend Minos\\n- earliest influences on Mycenaean Greeks comes from interactions with Minoans\\n- Crete is rather equidistant between mainland Greece, Egypt, Cyprus, not terribly far from Italy\\n    - lots of communication with all the major powers of the time\\n\\nMinoan “Palaces”\\n- administrative, economic, and religious centers\\n    - palace and town integrated though these centers into a centripetal administrative whole\\n- similarities across Crete - surrounding settlements\\n- where they centralized control or competing palaces?\\n- Phaistos, Knossos, Malia, Zakros, Bournia, Kommos\\n    - can visit massive Knossos palace\\n- important because Mycenaeans adopt this palace structure\\n- “redistributed economy”\\n    - magazines - mass storage\\n    - lots of materials came in, were worked, and then sent back out for trade',\n",
       " 'Sir Arthur Evans discovers huge complex at Cnossus on island of Crete - spent much time & money restoring it\\n- Cnossus center of powerful naval state\\n\\nIn 3rd century BC, anonymous Greek historian starts history in 1582 BC, when Greek tradition claimed that kings began to rule in Athens. He created The Parian Marble, that outlined a summary of his findings in a public gymnasium for all to see.\\n\\nFranchthi Cave in southeastern Greece inhabited continuously from c 20,000 to 3000 BC. 12k years ago, Greece changed significantly from melting ice sheets & rising sea levels. Hunter gatherers until 7000 - 3000 BC.\\n\\nRecorded history doesn’t begin until 8th century BC - before that is information from archeology and pulled from epic poems Iliad and Odyssey.\\n\\nsociety (late stone age)\\n- possibly up to 80% of men in city-state were farmers\\n- villages tended to stay around 100 - 300 people in size\\n- mostly egalitarian culture (aside from gender, age, skill) - very cooperative\\n- start falling behind technological & population growth of Near East & Egypt\\n\\nGreece in Early & Middle Bronze Ages\\n- bronze smithing arrives in Greece around 3000 BC, widespread in Europe by 2500 BC\\n- bronze started accelerating difference in classes\\n\\nLerna example of big change\\nsmall village for hundreds of years\\nexpanded rapidly in bronze age into bustling town with stone walls & large buildings\\n“corridor house” - the House of Tiles - similar structures seen in a couple other places\\nsign of steeper sociopolitical hierarchy\\nuncertain of language spoke here (pre-Greek)\\n\\nMinoan Civilization',\n",
       " \"http://www.livescience.com/51984-ancient-spartan-palace-unearthed.html\\n- Mycenaean Sparta - “Ayios Vassileios” - burnt to ground in 14th century bc - potentially lost Spartan palace\\n- Linear B script tablets - kept unbaked for temporary use - baked by fire\\n    - names, records, intricate bureaucracy\\n    - these tablets would only be found in an administrative center in Mycenaean culture\\n\\nhttps://www.forbes.com/sites/kristinakillgrove/2015/08/26/the-most-interesting-thing-about-that-ancient-spartan-palace-isnt-the-palace-its-the-language/?sh=3a52208b478e\\n- lots of imported & otherwise high value items that show the importance of the site\\n- “Linear B is probably related to Linear A, which was used for writing down the Minoan language. \\xa0Texts in both Linear A and Linear B were initially found at\\xa0Knossos\\xa0on Crete by the renowned archaeologist Sir Arthur Evans at the turn of the 20th century”\\n- “When Linear B tablets were also found on the Greek mainland, Ventris got the idea to search the tablets from Crete for unique words--and he found them, in the form of place names. Building on\\xa0Alice Kober's discovery that Linear B was a syllabary, Ventris unlocked Linear B, showing that it is an early form of Greek and that, importantly, Knossos was a part of Mycenaean Greece in its waning years. \\xa0But Linear A, although it shares some symbols with Linear B, is to this day undeciphered.”\\n\\nAncGrc pp. 12-53 (Ch. 1, “Early Greece and the Bronze Age”)\\n\\nBefore late 1800s, no one knew advanced civilizations had existed in the Aegean during the Bronze Age.\\n\\n1871 - eccentric businessman Heinrich Schliemann is convinced that Troy was a real place, and the Iliad and the Odyssey referenced real civilizations\\n- discovers ruins of Troy\\n- excavates ruins of Mycenae - finds immense wealth\"]"
      ]
     },
     "execution_count": 68,
     "metadata": {},
     "output_type": "execute_result"
    }
   ],
   "source": [
    "docs"
   ]
  },
  {
   "cell_type": "code",
   "execution_count": 69,
   "metadata": {},
   "outputs": [],
   "source": [
    "chunk_ids = query_result_to_chunk_ids(modified_query_result)"
   ]
  },
  {
   "cell_type": "code",
   "execution_count": 70,
   "metadata": {},
   "outputs": [
    {
     "data": {
      "text/plain": [
       "['b3c1a0e4-8eaf-47ed-b3d5-bf9953129af3',\n",
       " 'c82fdc35-043c-4b58-8c20-0e97641a25ee',\n",
       " 'bb0ab99e-debc-43ff-92f5-acca4167e99d']"
      ]
     },
     "execution_count": 70,
     "metadata": {},
     "output_type": "execute_result"
    }
   ],
   "source": [
    "chunk_ids"
   ]
  },
  {
   "cell_type": "code",
   "execution_count": null,
   "metadata": {},
   "outputs": [],
   "source": []
  }
 ],
 "metadata": {
  "kernelspec": {
   "display_name": "venv",
   "language": "python",
   "name": "python3"
  },
  "language_info": {
   "codemirror_mode": {
    "name": "ipython",
    "version": 3
   },
   "file_extension": ".py",
   "mimetype": "text/x-python",
   "name": "python",
   "nbconvert_exporter": "python",
   "pygments_lexer": "ipython3",
   "version": "3.10.11"
  }
 },
 "nbformat": 4,
 "nbformat_minor": 2
}
