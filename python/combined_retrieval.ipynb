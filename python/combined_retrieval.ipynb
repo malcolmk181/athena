{
 "cells": [
  {
   "cell_type": "code",
   "execution_count": 1,
   "metadata": {},
   "outputs": [],
   "source": [
    "import graph_handling\n",
    "import embedding_handling"
   ]
  },
  {
   "cell_type": "code",
   "execution_count": 2,
   "metadata": {},
   "outputs": [],
   "source": [
    "query = \"Where did Heinrich Schliemann discover?\""
   ]
  },
  {
   "cell_type": "code",
   "execution_count": 3,
   "metadata": {},
   "outputs": [
    {
     "name": "stderr",
     "output_type": "stream",
     "text": [
      "Number of requested results 10 is greater than number of elements in index 8, updating n_results = 8\n"
     ]
    }
   ],
   "source": [
    "query_result = embedding_handling.user_query_to_chromadb_query_result(query)\n",
    "chunk_ids_from_embedding = embedding_handling.chroma_query_result_to_chunk_ids(query_result)"
   ]
  },
  {
   "cell_type": "code",
   "execution_count": 4,
   "metadata": {},
   "outputs": [
    {
     "data": {
      "text/plain": [
       "['b3c1a0e4-8eaf-47ed-b3d5-bf9953129af3',\n",
       " 'c82fdc35-043c-4b58-8c20-0e97641a25ee',\n",
       " 'bb0ab99e-debc-43ff-92f5-acca4167e99d']"
      ]
     },
     "execution_count": 4,
     "metadata": {},
     "output_type": "execute_result"
    }
   ],
   "source": [
    "chunk_ids_from_embedding"
   ]
  },
  {
   "cell_type": "code",
   "execution_count": 5,
   "metadata": {},
   "outputs": [
    {
     "name": "stdout",
     "output_type": "stream",
     "text": [
      "\n",
      "\n",
      "\u001b[1m> Entering new LLMChain chain...\u001b[0m\n",
      "Prompt after formatting:\n",
      "\u001b[32;1m\u001b[1;3mSystem: # Prompt for GPT-4:\n",
      "Question:\n",
      "\"Where did Heinrich Schliemann discover?\"\n",
      "\n",
      "List of Node Names from the Knowledge Graph:\n",
      "Greece, Mycenae, Absurdly Huge Stones And Giant Gravesites, Tholos Tomb, Knossos, Wanax, Mother Goddess, Mycenaeanpalaces, Heavilyarmoredsoldiers, Kingsandcommanders, Chariots, Collapse, Heinrich Schliemann, Troy, The Treasure Of Priam, Mycenae, Grave Circle A, Minoans, Crete, Minoan Palaces, Cretan Hieroglyphic Script, Hieroglyphic Script From Phaistos, Linear A, Akrotiri, Mycenaeans, Kingdom Of Pylos, Mycenaean Sparta, Linear B Script Tablets, Linear A, Linear B, Odyssey, Near East, Egypt, Lerna, House Of Tiles, Minoan Civilization, Crete, Sir Arthur Evans, Cnossus, Anonymous Greek Historian, The Parian Marble, Franchthi Cave, Greece, Iliad\n",
      "\n",
      "# Task for GPT-4:\n",
      "Analyze the provided list of names from the knowledge graph in the context of the question. Identify and list the names that are most relevant to the question, ordering them from the most important to less important. Do not include names that are not very important. Consider only the content of the question and do not use prior knowledge.\n",
      "\n",
      "Human: Tip: Make sure to answer in the correct format\u001b[0m\n",
      "\n",
      "\u001b[1m> Finished chain.\u001b[0m\n"
     ]
    }
   ],
   "source": [
    "node_names = graph_handling.get_relevant_nodes_from_question(\n",
    "    graph_handling.GPT4,\n",
    "    graph_handling.get_all_node_names(),\n",
    "    query,\n",
    "    True)"
   ]
  },
  {
   "cell_type": "code",
   "execution_count": 6,
   "metadata": {},
   "outputs": [
    {
     "data": {
      "text/plain": [
       "NodeNameList(names=['Heinrich Schliemann', 'Troy', 'The Treasure Of Priam', 'Mycenae', 'Grave Circle A', 'Greece'])"
      ]
     },
     "execution_count": 6,
     "metadata": {},
     "output_type": "execute_result"
    }
   ],
   "source": [
    "node_names"
   ]
  },
  {
   "cell_type": "code",
   "execution_count": 7,
   "metadata": {},
   "outputs": [],
   "source": [
    "chunk_ids_from_graph = graph_handling.get_chunk_ids_by_node_names(node_names.names)"
   ]
  },
  {
   "cell_type": "code",
   "execution_count": 8,
   "metadata": {},
   "outputs": [
    {
     "data": {
      "text/plain": [
       "['f9453227-664b-41bb-9b9e-21fe3d5acfce',\n",
       " 'f9453227-664b-41bb-9b9e-21fe3d5acfce',\n",
       " 'bb0ab99e-debc-43ff-92f5-acca4167e99d',\n",
       " 'b3c1a0e4-8eaf-47ed-b3d5-bf9953129af3',\n",
       " 'b3c1a0e4-8eaf-47ed-b3d5-bf9953129af3',\n",
       " 'b3c1a0e4-8eaf-47ed-b3d5-bf9953129af3',\n",
       " 'b3c1a0e4-8eaf-47ed-b3d5-bf9953129af3',\n",
       " '139bea43-a0a8-4a4e-8a4d-6e8d8a7c954e',\n",
       " 'b3c1a0e4-8eaf-47ed-b3d5-bf9953129af3',\n",
       " 'c82fdc35-043c-4b58-8c20-0e97641a25ee']"
      ]
     },
     "execution_count": 8,
     "metadata": {},
     "output_type": "execute_result"
    }
   ],
   "source": [
    "chunk_ids_from_graph\n",
    "# note the duplication and also overlap from the embeddings"
   ]
  },
  {
   "cell_type": "code",
   "execution_count": 9,
   "metadata": {},
   "outputs": [],
   "source": [
    "combined_chunk_ids = list(set(chunk_ids_from_embedding + chunk_ids_from_graph))"
   ]
  },
  {
   "cell_type": "code",
   "execution_count": 10,
   "metadata": {},
   "outputs": [
    {
     "data": {
      "text/plain": [
       "['c82fdc35-043c-4b58-8c20-0e97641a25ee',\n",
       " 'bb0ab99e-debc-43ff-92f5-acca4167e99d',\n",
       " '139bea43-a0a8-4a4e-8a4d-6e8d8a7c954e',\n",
       " 'b3c1a0e4-8eaf-47ed-b3d5-bf9953129af3',\n",
       " 'f9453227-664b-41bb-9b9e-21fe3d5acfce']"
      ]
     },
     "execution_count": 10,
     "metadata": {},
     "output_type": "execute_result"
    }
   ],
   "source": [
    "combined_chunk_ids"
   ]
  },
  {
   "cell_type": "code",
   "execution_count": 11,
   "metadata": {},
   "outputs": [],
   "source": [
    "collection = embedding_handling.get_vector_store_collection()"
   ]
  },
  {
   "cell_type": "code",
   "execution_count": 12,
   "metadata": {},
   "outputs": [],
   "source": [
    "docs = collection.get(ids=combined_chunk_ids,include=['documents'])['documents']"
   ]
  },
  {
   "cell_type": "code",
   "execution_count": 13,
   "metadata": {},
   "outputs": [
    {
     "data": {
      "text/plain": [
       "['Heinrich Schliemann\\ndiscovers Troy in the 1870s - it’s now known to be a real place! Archaeology is having a revolution. Period of romanticism and philhellenism - Greece gaining independence from Ottoman empire.\\n\\nfound several layers of different rebuildings of Troy\\nTroy - very strategic location at mouth of water trade route\\n\\nvery destructive digging and some looting - dug a giant hole\\n\\n“The Treasure of Priam” - lots of wealth - gold & copper items\\n\\nbro liked to lie, was brilliant linguist but generally questionable & problematic\\n\\nFueled by success of Troy, Schliemann finds Mycenae\\n- again digs straight down, into burial sites “Grave Circle A”\\n- finds again lots of gold - remember no gold found in Greece, had to have come from somewhere else via war / trade\\n- “palace of Agamemnon”\\n\\nStill scholarship being conducted on these findings with new information, techniques, and technology. DNA analysis\\n\\nMinoans 1700 - 1500 BCE\\n- don’t know what language they spoke or what they called themselves\\n    - we call them Minoans after Greek legend Minos\\n- earliest influences on Mycenaean Greeks comes from interactions with Minoans\\n- Crete is rather equidistant between mainland Greece, Egypt, Cyprus, not terribly far from Italy\\n    - lots of communication with all the major powers of the time\\n\\nMinoan “Palaces”\\n- administrative, economic, and religious centers\\n    - palace and town integrated though these centers into a centripetal administrative whole\\n- similarities across Crete - surrounding settlements\\n- where they centralized control or competing palaces?\\n- Phaistos, Knossos, Malia, Zakros, Bournia, Kommos\\n    - can visit massive Knossos palace\\n- important because Mycenaeans adopt this palace structure\\n- “redistributed economy”\\n    - magazines - mass storage\\n    - lots of materials came in, were worked, and then sent back out for trade',\n",
       " 'Mycenae\\n- 1876 excavations - massive bronze age walled city\\n- habitation since Neolithic times\\n- many characteristics of what we find in Crete\\n- more militaristic - big walls - swords - art of warriors\\n- importing metallic materials not found on Greek peninsula (tin, bronze, gold)\\n- exporting textiles, olive oil, perfume\\n- massive stone architecture\\n    - requires significant control & organization to quarry stones & build huge walls\\n- 1300 - 1250 BC is peak Mycenae\\n- beehive tomb, tholos\\n- wrote using Linear B\\n    - translated in 1952\\n    - thousands of tablets, temporary annual records, unintentionally preserved from fires\\n    - scribes kept very detailed records of everything\\n        - scribes very unusually highly trained & literate\\n    - obsessive listing of personnel, livestock, agricultural & manufactured goods\\n    - “secondary” economy largely unknown - exports, trade w/ east\\n    - Linear B is Minoan script, but recording Greek language\\n    - Mycenaeans adopted Linear A for same purpose - to record palace information\\n- palaces controlling & recording high levels of organization, production, trade\\n- can see history of women in tablets as well\\n    - wives of 1% powerful men\\n    - women working in religious venues / sanctuaries\\n    - most women are enslaved laborers in textile industry - see lots of them come from Anatolia\\n- lots of enslaved labor (women & children) coming from coastal Anatolia\\n- 1400 - 1300 BC we see transition from Linear A to Linear B in Knossos\\n    - still not sure how Mycenaeans started appearing so much in Crete\\n\\nKingdom of Pylos\\n- split into 12 regions\\n- split between 2 halves of the state, perhaps from earlier independent districts',\n",
       " \"http://www.livescience.com/51984-ancient-spartan-palace-unearthed.html\\n- Mycenaean Sparta - “Ayios Vassileios” - burnt to ground in 14th century bc - potentially lost Spartan palace\\n- Linear B script tablets - kept unbaked for temporary use - baked by fire\\n    - names, records, intricate bureaucracy\\n    - these tablets would only be found in an administrative center in Mycenaean culture\\n\\nhttps://www.forbes.com/sites/kristinakillgrove/2015/08/26/the-most-interesting-thing-about-that-ancient-spartan-palace-isnt-the-palace-its-the-language/?sh=3a52208b478e\\n- lots of imported & otherwise high value items that show the importance of the site\\n- “Linear B is probably related to Linear A, which was used for writing down the Minoan language. \\xa0Texts in both Linear A and Linear B were initially found at\\xa0Knossos\\xa0on Crete by the renowned archaeologist Sir Arthur Evans at the turn of the 20th century”\\n- “When Linear B tablets were also found on the Greek mainland, Ventris got the idea to search the tablets from Crete for unique words--and he found them, in the form of place names. Building on\\xa0Alice Kober's discovery that Linear B was a syllabary, Ventris unlocked Linear B, showing that it is an early form of Greek and that, importantly, Knossos was a part of Mycenaean Greece in its waning years. \\xa0But Linear A, although it shares some symbols with Linear B, is to this day undeciphered.”\\n\\nAncGrc pp. 12-53 (Ch. 1, “Early Greece and the Bronze Age”)\\n\\nBefore late 1800s, no one knew advanced civilizations had existed in the Aegean during the Bronze Age.\\n\\n1871 - eccentric businessman Heinrich Schliemann is convinced that Troy was a real place, and the Iliad and the Odyssey referenced real civilizations\\n- discovers ruins of Troy\\n- excavates ruins of Mycenae - finds immense wealth\",\n",
       " 'Sir Arthur Evans discovers huge complex at Cnossus on island of Crete - spent much time & money restoring it\\n- Cnossus center of powerful naval state\\n\\nIn 3rd century BC, anonymous Greek historian starts history in 1582 BC, when Greek tradition claimed that kings began to rule in Athens. He created The Parian Marble, that outlined a summary of his findings in a public gymnasium for all to see.\\n\\nFranchthi Cave in southeastern Greece inhabited continuously from c 20,000 to 3000 BC. 12k years ago, Greece changed significantly from melting ice sheets & rising sea levels. Hunter gatherers until 7000 - 3000 BC.\\n\\nRecorded history doesn’t begin until 8th century BC - before that is information from archeology and pulled from epic poems Iliad and Odyssey.\\n\\nsociety (late stone age)\\n- possibly up to 80% of men in city-state were farmers\\n- villages tended to stay around 100 - 300 people in size\\n- mostly egalitarian culture (aside from gender, age, skill) - very cooperative\\n- start falling behind technological & population growth of Near East & Egypt\\n\\nGreece in Early & Middle Bronze Ages\\n- bronze smithing arrives in Greece around 3000 BC, widespread in Europe by 2500 BC\\n- bronze started accelerating difference in classes\\n\\nLerna example of big change\\nsmall village for hundreds of years\\nexpanded rapidly in bronze age into bustling town with stone walls & large buildings\\n“corridor house” - the House of Tiles - similar structures seen in a couple other places\\nsign of steeper sociopolitical hierarchy\\nuncertain of language spoke here (pre-Greek)\\n\\nMinoan Civilization',\n",
       " 'Minoan Civilization\\n\\nCrete\\n- settled in 7000 BC by Neolithic farmers & stock raisers probably from Anatolia\\n- disruption in 2200 BC, but not destruction\\n- 2100 BC, complete recovery & growth\\n- big palaces at Cnossus, Phaistos, Mallia, Zakro around 2000 BC\\n- palace - multifunctional mazes with quarters, workshops, and storerooms, all clustered around a large central courtyard\\n    - Cnossus - major reconstruction in 1700 BC, later reconstructions until 1375 BC\\n    - center for state\\n    - control of several hundred square miles\\n    - adopted “redistributive” system from Egypt & Near East\\n    - large control over distribution of goods, labor\\n- Cretans traded extensively with Cyclades, some off & on contact with Near East\\n    - became trade powerhouse in Middle Bronze Age - equidistant from Greece, Egypt, Near East\\n- c 1900 BC Linear A is developed for managerial work\\n\\nKnossos\\n\\nMinoan art & trade influences seen in Aegean - city of Akrotiri on island of Thera (modern Santorini) buried in volcanic ash c 1628 BC. Shows range of Minoan influence, 70 miles North of Crete.\\n\\nMinoans definitely had slaves (captured and traded women & children). Outside of slaves and ruling palace, seems like otherwise not much class inequality.\\n\\nUnsure exactly of the ruling structure - Minoan art notably lacks images of a King - so might have been ruling family.\\n\\nMinoan religion may be focused on fertility. Worship of “Minoan Lady”.\\n\\nGreece & the Aegean in the Late Bronze Age (1600 - 1200 BC)\\n\\nConnection between Cretans & Greeks began in 2000 BC when they started trading.\\n\\nGreeks adopted hella shit from Minoans - art, government form, writing form\\n\\nBy about 1450 BC, Greeks were living in Crete. By 800 BC, Cretans looked more like Greeks.\\n\\nMycenae seemingly appeared on the scene out of no where\\n\\nLarge shaft graves - stacks of burials - show wildly increasing wealth as time goes on\\n\\nMycenaeans adapted Minoan gravesites and created **tholos**** (tholoi plural) - huge beehive-like graves inside hills']"
      ]
     },
     "execution_count": 13,
     "metadata": {},
     "output_type": "execute_result"
    }
   ],
   "source": [
    "docs"
   ]
  },
  {
   "cell_type": "code",
   "execution_count": 14,
   "metadata": {},
   "outputs": [
    {
     "data": {
      "text/plain": [
       "({'name': 'Minoans',\n",
       "  'location': 'Crete',\n",
       "  'id': 'Minoans',\n",
       "  'timeperiod': '1700 - 1500 BCE',\n",
       "  'influence': 'earliest influences on Mycenaean Greeks'},\n",
       " 'INFLUENCED',\n",
       " {'discoverydate': 'after Troy',\n",
       "  'importance': 'burial sites, palace of Agamemnon',\n",
       "  'name': 'Mycenae',\n",
       "  'id': 'Mycenae'})"
      ]
     },
     "execution_count": 14,
     "metadata": {},
     "output_type": "execute_result"
    }
   ],
   "source": [
    "graph_handling.get_graph_connector().query(\"\"\"UNWIND ['Heinrich Schliemann', 'Mycenae', 'Minoans', 'Sir Arthur Evans', 'Cnossus', 'Crete'] AS nodeName1\n",
    "UNWIND ['Heinrich Schliemann', 'Mycenae', 'Minoans', 'Sir Arthur Evans', 'Cnossus', 'Crete'] AS nodeName2\n",
    "MATCH (n1)-[r]->(n2)\n",
    "WHERE n1.name = nodeName1 AND n2.name = nodeName2\n",
    "RETURN n1, r, n2\"\"\")[1]['r']"
   ]
  },
  {
   "cell_type": "code",
   "execution_count": 16,
   "metadata": {},
   "outputs": [],
   "source": [
    "node_relationships = graph_handling.get_interrelationships_between_nodes(node_names.names)"
   ]
  },
  {
   "cell_type": "code",
   "execution_count": 17,
   "metadata": {},
   "outputs": [
    {
     "data": {
      "text/plain": [
       "[({'profession': 'archaeologist',\n",
       "   'characteristics': 'brilliant linguist, questionable, problematic',\n",
       "   'name': 'Heinrich Schliemann',\n",
       "   'id': 'Heinrich Schliemann'},\n",
       "  'DISCOVERED',\n",
       "  {'discoverydate': '1870s',\n",
       "   'rebuildings': 'several layers of different rebuildings',\n",
       "   'importance': 'strategic location at mouth of water trade route',\n",
       "   'name': 'Troy',\n",
       "   'id': 'Troy'}),\n",
       " ({'profession': 'archaeologist',\n",
       "   'characteristics': 'brilliant linguist, questionable, problematic',\n",
       "   'name': 'Heinrich Schliemann',\n",
       "   'id': 'Heinrich Schliemann'},\n",
       "  'DISCOVERED',\n",
       "  {'discoverydate': 'after Troy',\n",
       "   'importance': 'burial sites, palace of Agamemnon',\n",
       "   'name': 'Mycenae',\n",
       "   'id': 'Mycenae'})]"
      ]
     },
     "execution_count": 17,
     "metadata": {},
     "output_type": "execute_result"
    }
   ],
   "source": [
    "node_relationships"
   ]
  },
  {
   "cell_type": "code",
   "execution_count": 32,
   "metadata": {},
   "outputs": [
    {
     "name": "stdout",
     "output_type": "stream",
     "text": [
      "\n",
      "\n",
      "\u001b[1m> Entering new LLMChain chain...\u001b[0m\n",
      "Prompt after formatting:\n",
      "\u001b[32;1m\u001b[1;3mSystem: # Prompt for GPT-4:\n",
      "Relationship between two nodes:\n",
      "\"({'profession': 'archaeologist', 'characteristics': 'brilliant linguist, questionable, problematic', 'name': 'Heinrich Schliemann', 'id': 'Heinrich Schliemann'}, 'DISCOVERED', {'discoverydate': '1870s', 'rebuildings': 'several layers of different rebuildings', 'importance': 'strategic location at mouth of water trade route', 'name': 'Troy', 'id': 'Troy'})\"\n",
      "\n",
      "# Task for GPT-4:\n",
      "This is a relationship between two nodes in a Neo4j graph. Please use this information to give a summary of this relationship in a succinct paragraph that does not mention anything about a graph or nodes.\n",
      "\u001b[0m\n",
      "\n",
      "\u001b[1m> Finished chain.\u001b[0m\n",
      "\n",
      "\n",
      "\u001b[1m> Entering new LLMChain chain...\u001b[0m\n",
      "Prompt after formatting:\n",
      "\u001b[32;1m\u001b[1;3mSystem: # Prompt for GPT-4:\n",
      "Relationship between two nodes:\n",
      "\"({'profession': 'archaeologist', 'characteristics': 'brilliant linguist, questionable, problematic', 'name': 'Heinrich Schliemann', 'id': 'Heinrich Schliemann'}, 'DISCOVERED', {'discoverydate': 'after Troy', 'importance': 'burial sites, palace of Agamemnon', 'name': 'Mycenae', 'id': 'Mycenae'})\"\n",
      "\n",
      "# Task for GPT-4:\n",
      "This is a relationship between two nodes in a Neo4j graph. Please use this information to give a summary of this relationship in a succinct paragraph that does not mention anything about a graph or nodes.\n",
      "\u001b[0m\n",
      "\n",
      "\u001b[1m> Finished chain.\u001b[0m\n"
     ]
    }
   ],
   "source": [
    "node_relationship_summaries = list(map(lambda r : graph_handling.summarize_relationship(graph_handling.GPT4_TURBO, r, True), node_relationships))"
   ]
  },
  {
   "cell_type": "code",
   "execution_count": 33,
   "metadata": {},
   "outputs": [
    {
     "data": {
      "text/plain": [
       "[\"Heinrich Schliemann, an archaeologist renowned for his skills as a brilliant linguist yet also known for being questionable and problematic, made a significant discovery in the 1870s. He uncovered the ancient city of Troy, which was notable for its strategic location at the mouth of a water trade route and had undergone several layers of rebuildings over time. Schliemann's discovery of Troy was a milestone in the field of archaeology due to the city's historical and cultural importance.\",\n",
       " 'Heinrich Schliemann, an archaeologist renowned for his skills as a brilliant linguist yet also known for his questionable and problematic methods, made a significant discovery after his work in Troy. He uncovered the ancient burial sites and the palace of Agamemnon at Mycenae, which marked a notable contribution to the field of archaeology and our understanding of ancient civilizations.']"
      ]
     },
     "execution_count": 33,
     "metadata": {},
     "output_type": "execute_result"
    }
   ],
   "source": [
    "node_relationship_summaries"
   ]
  },
  {
   "cell_type": "code",
   "execution_count": 34,
   "metadata": {},
   "outputs": [],
   "source": [
    "from langchain.schema import HumanMessage, SystemMessage\n",
    "\n",
    "messages = [\n",
    "        SystemMessage(\n",
    "            content=f\"\"\"You are a helpful assistant that responds to user queries given the following context. You are given both a series of facts from a knowledge graph, and raw chunks of documents. Combine both sources to provide a truthful answer.\n",
    "            \n",
    "            Here is a collection of facts pulled from a knowledge graph:\n",
    "\n",
    "            {node_relationship_summaries[0]}\n",
    "\n",
    "            {node_relationship_summaries[1]}\n",
    "\n",
    "            Here is a collection of relevants chunks of notes, pulled from a collection of the user's documents:\n",
    "\n",
    "            {docs[0]}\n",
    "\n",
    "            {docs[1]}\n",
    "\n",
    "            {docs[2]}\n",
    "\n",
    "            {docs[3]}\n",
    "\n",
    "            {docs[4]}\n",
    "\n",
    "            Use all of the above resources to answer the user's question in as much detail as the context can provide.\n",
    "            \"\"\"\n",
    "        ),\n",
    "        HumanMessage(\n",
    "            content=query\n",
    "        ),\n",
    "    ]"
   ]
  },
  {
   "cell_type": "code",
   "execution_count": 35,
   "metadata": {},
   "outputs": [],
   "source": [
    "result = graph_handling.GPT4_TURBO(messages)"
   ]
  },
  {
   "cell_type": "code",
   "execution_count": 36,
   "metadata": {},
   "outputs": [
    {
     "data": {
      "text/plain": [
       "\"Heinrich Schliemann made two major archaeological discoveries:\\n\\n1. **Troy**: Schliemann discovered the ancient city of Troy in the 1870s. His work confirmed that Troy was a real place, which until then was known mainly from Homer's epic poems, the Iliad and the Odyssey. The city was found to have undergone several rebuildings over time and was located at a strategic position at the mouth of a water trade route.\\n\\n2. **Mycenae**: After his success at Troy, Schliemann went on to uncover the ancient burial sites and the palace of Agamemnon at Mycenae. This discovery was made in 1876 and was significant for the field of archaeology and our understanding of ancient civilizations. Mycenae was a massive Bronze Age walled city with habitation dating back to Neolithic times. Schliemann's excavation revealed immense wealth, including gold, which indicated that the Mycenaeans had engaged in extensive trade or warfare, as gold was not native to Greece.\""
      ]
     },
     "execution_count": 36,
     "metadata": {},
     "output_type": "execute_result"
    }
   ],
   "source": [
    "result.content"
   ]
  },
  {
   "cell_type": "code",
   "execution_count": null,
   "metadata": {},
   "outputs": [],
   "source": []
  }
 ],
 "metadata": {
  "kernelspec": {
   "display_name": "venv",
   "language": "python",
   "name": "python3"
  },
  "language_info": {
   "codemirror_mode": {
    "name": "ipython",
    "version": 3
   },
   "file_extension": ".py",
   "mimetype": "text/x-python",
   "name": "python",
   "nbconvert_exporter": "python",
   "pygments_lexer": "ipython3",
   "version": "3.10.11"
  }
 },
 "nbformat": 4,
 "nbformat_minor": 2
}
