{
 "cells": [
  {
   "cell_type": "markdown",
   "metadata": {},
   "source": [
    "Code majorly copied from https://github.com/tomasonjo/blogs/blob/master/llm/openaifunction_constructing_graph.ipynb\n",
    "Author's medium article: https://medium.com/@bratanic-tomaz/constructing-knowledge-graphs-from-text-using-openai-functions-096a6d010c17"
   ]
  },
  {
   "cell_type": "code",
   "execution_count": 31,
   "metadata": {},
   "outputs": [
    {
     "data": {
      "text/plain": [
       "True"
      ]
     },
     "execution_count": 31,
     "metadata": {},
     "output_type": "execute_result"
    }
   ],
   "source": [
    "from dotenv import load_dotenv\n",
    "import os\n",
    "\n",
    "load_dotenv()\n",
    "# OPENAI_API_KEY in .env file"
   ]
  },
  {
   "cell_type": "code",
   "execution_count": 7,
   "metadata": {},
   "outputs": [],
   "source": [
    "from langchain.graphs import Neo4jGraph\n",
    "\n",
    "url = \"bolt://localhost:7687\"\n",
    "username =\"neo4j\"\n",
    "password = \"athena_password\"\n",
    "graph = Neo4jGraph(\n",
    "    url=url,\n",
    "    username=username,\n",
    "    password=password\n",
    ")"
   ]
  },
  {
   "cell_type": "code",
   "execution_count": 9,
   "metadata": {},
   "outputs": [],
   "source": [
    "from typing import List, Dict, Any, Optional\n",
    "\n",
    "from langchain.graphs.graph_document import (\n",
    "    Node as BaseNode,\n",
    "    Relationship as BaseRelationship,\n",
    "    GraphDocument\n",
    ")\n",
    "from langchain.pydantic_v1 import Field, BaseModel\n",
    "from langchain.schema import Document\n",
    "\n",
    "\n",
    "class Property(BaseModel):\n",
    "    \"\"\"A single property consisting of key and value\"\"\"\n",
    "    \n",
    "    key: str = Field(..., description=\"key\")\n",
    "    value: str = Field(..., description=\"value\")\n",
    "\n",
    "class Node(BaseNode):\n",
    "    properties: Optional[List[Property]] = Field(None, description=\"List of node properties\")\n",
    "\n",
    "class Relationship(BaseRelationship):\n",
    "    properties: Optional[List[Property]] = Field(None, description=\"List of relationship properties\")\n",
    "\n",
    "class KnowledgeGraph(BaseModel):\n",
    "    \"\"\"Generate a knowledge graph with entities and relationships.\"\"\"\n",
    "\n",
    "    nodes: List[Node] = Field(..., description=\"List of nodes in the knowledge graph\")\n",
    "    rels: List[Relationship] = Field(..., description=\"List of relationships in the knowledge graph\")"
   ]
  },
  {
   "cell_type": "code",
   "execution_count": 10,
   "metadata": {},
   "outputs": [],
   "source": [
    "def format_property_key(s: str) -> str:\n",
    "    words = s.split()\n",
    "\n",
    "    if not words:\n",
    "        return s\n",
    "\n",
    "    first_word = words[0].lower()\n",
    "    capitalized_words = [word.capitalize() for word in words[1:]]\n",
    "\n",
    "    return \"\".join([first_word] + capitalized_words)\n",
    "\n",
    "def props_to_dict(props) -> dict:\n",
    "    \"\"\"Convert properties to a dictionary.\"\"\"\n",
    "\n",
    "    properties = {}\n",
    "\n",
    "    if not props:\n",
    "        return properties\n",
    "\n",
    "    for p in props:\n",
    "        properties[format_property_key(p.key)] = p.value\n",
    "\n",
    "    return properties\n",
    "\n",
    "def map_to_base_node(node: Node) -> BaseNode:\n",
    "    \"\"\"Map the KnowledgeGraph Node to the base Node.\"\"\"\n",
    "\n",
    "    properties = props_to_dict(node.properties) if node.properties else {}\n",
    "    # Add name property for better Cypher statement generation\n",
    "    properties[\"name\"] = node.id.title()\n",
    "\n",
    "    return BaseNode(id=node.id.title(), type=node.type.capitalize(), properties=properties)\n",
    "\n",
    "\n",
    "def map_to_base_relationship(rel: Relationship) -> BaseRelationship:\n",
    "    \"\"\"Map the KnowledgeGraph Relationship to the base Relationship.\"\"\"\n",
    "\n",
    "    source = map_to_base_node(rel.source)\n",
    "    target = map_to_base_node(rel.target)\n",
    "    properties = props_to_dict(rel.properties) if rel.properties else {}\n",
    "\n",
    "    return BaseRelationship(source=source, target=target, type=rel.type, properties=properties)"
   ]
  },
  {
   "cell_type": "code",
   "execution_count": 44,
   "metadata": {},
   "outputs": [],
   "source": [
    "from langchain.chains.openai_functions import (\n",
    "    create_openai_fn_chain,\n",
    "    create_structured_output_chain,\n",
    ")\n",
    "from langchain.chat_models import ChatOpenAI\n",
    "from langchain.prompts import ChatPromptTemplate\n",
    "\n",
    "llm = ChatOpenAI(model=\"gpt-3.5-turbo-16k\", temperature=0)\n",
    "\n",
    "def get_extraction_chain(\n",
    "    allowed_nodes: Optional[List[str]] = None,\n",
    "    allowed_rels: Optional[List[str]] = None\n",
    "    ):\n",
    "    prompt = ChatPromptTemplate.from_messages(\n",
    "        [(\n",
    "          \"system\",\n",
    "          f\"\"\"# Knowledge Graph Instructions for GPT-4\n",
    "## 1. Overview\n",
    "You are a top-tier algorithm designed for extracting information from markdown notes in structured formats to build a knowledge graph.\n",
    "- **Nodes** represent entities and concepts. They're akin to Wikipedia nodes.\n",
    "- The aim is to achieve simplicity and clarity in the knowledge graph, making it accessible for a vast audience.\n",
    "## 2. Labeling Nodes\n",
    "- **Consistency**: Ensure you use basic or elementary types for node labels.\n",
    "  - For example, when you identify an entity representing a person, always label it as **\"person\"**. Avoid using more specific terms like \"mathematician\" or \"scientist\".\n",
    "- **Node IDs**: Never utilize integers as node IDs. Node IDs should be names or human-readable identifiers found in the text.\n",
    "{'- **Allowed Node Labels:**' + \", \".join(allowed_nodes) if allowed_nodes else \"\"}\n",
    "{'- **Allowed Relationship Types**:' + \", \".join(allowed_rels) if allowed_rels else \"\"}\n",
    "## 3. Handling Numerical Data and Dates\n",
    "- Numerical data, like age or other related information, should be incorporated as attributes or properties of the respective nodes.\n",
    "- **No Separate Nodes for Dates/Numbers**: Do not create separate nodes for dates or numerical values. Always attach them as attributes or properties of nodes.\n",
    "- **Property Format**: Properties must be in a key-value format.\n",
    "- **Quotation Marks**: Never use escaped single or double quotes within property values.\n",
    "- **Naming Convention**: Use camelCase for property keys, e.g., `birthDate`.\n",
    "## 4. Coreference Resolution\n",
    "- **Maintain Entity Consistency**: When extracting entities, it's vital to ensure consistency.\n",
    "If an entity, such as \"John Doe\", is mentioned multiple times in the text but is referred to by different names or pronouns (e.g., \"Joe\", \"he\"),\n",
    "always use the most complete identifier for that entity throughout the knowledge graph. In this example, use \"John Doe\" as the entity ID.\n",
    "Remember, the knowledge graph should be coherent and easily understandable, so maintaining consistency in entity references is crucial.\n",
    "## 5. Strict Compliance\n",
    "Adhere to the rules strictly. Non-compliance will result in termination.\n",
    "          \"\"\"),\n",
    "            (\"human\", \"Use the given format to extract information from the following input: {input}\"),\n",
    "            (\"human\", \"Tip: Make sure to answer in the correct format\"),\n",
    "        ])\n",
    "    return create_structured_output_chain(KnowledgeGraph, llm, prompt, verbose=False)"
   ]
  },
  {
   "cell_type": "code",
   "execution_count": 45,
   "metadata": {},
   "outputs": [],
   "source": [
    "def extract_and_store_graph(\n",
    "    document: Document,\n",
    "    nodes:Optional[List[str]] = None,\n",
    "    rels:Optional[List[str]] = None\n",
    "    ) -> None:\n",
    "\n",
    "    # Extract graph data using OpenAI functions\n",
    "    extract_chain = get_extraction_chain(nodes, rels)\n",
    "    data = extract_chain.run(document.page_content)\n",
    "\n",
    "    # Construct a graph document\n",
    "    graph_document = GraphDocument(\n",
    "      nodes = [map_to_base_node(node) for node in data.nodes],\n",
    "      relationships = [map_to_base_relationship(rel) for rel in data.rels],\n",
    "      source = document\n",
    "    )\n",
    "\n",
    "    # Store information into a graph\n",
    "    graph.add_graph_documents([graph_document])"
   ]
  },
  {
   "cell_type": "code",
   "execution_count": 51,
   "metadata": {},
   "outputs": [
    {
     "name": "stderr",
     "output_type": "stream",
     "text": [
      "  0%|          | 2/528 [00:00<00:23, 22.76it/s]\n"
     ]
    }
   ],
   "source": [
    "# from langchain.document_loaders import UnstructuredMarkdownLoader\n",
    "from langchain.document_loaders import DirectoryLoader\n",
    "from langchain.text_splitter import TokenTextSplitter\n",
    "\n",
    "\n",
    "loader = DirectoryLoader('../../../../', glob=\"**/*.md\", show_progress=True)\n",
    "# markdown_path = \"../../../../09-01-23 Readings.md\"\n",
    "# loader = UnstructuredMarkdownLoader(markdown_path)\n",
    "raw_docs = loader.load()\n",
    "text_splitter = TokenTextSplitter(chunk_size=2048, chunk_overlap=24)\n",
    "\n",
    "docs = text_splitter.split_documents(raw_docs)"
   ]
  },
  {
   "cell_type": "code",
   "execution_count": 52,
   "metadata": {},
   "outputs": [
    {
     "data": {
      "text/plain": [
       "[Document(page_content='Heinrich Schliemann\\ndiscovers Troy in the 1870s - it’s now known to be a real place! Archaeology is having a revolution. Period of romanticism and philhellenism - Greece gaining independence from Ottoman empire.\\n\\nfound several layers of different rebuildings of Troy\\nTroy - very strategic location at mouth of water trade route\\n\\nvery destructive digging and some looting - dug a giant hole\\n\\n“The Treasure of Priam” - lots of wealth - gold & copper items\\n\\nbro liked to lie, was brilliant linguist but generally questionable & problematic\\n\\nFueled by success of Troy, Schliemann finds Mycenae\\n- again digs straight down, into burial sites “Grave Circle A”\\n- finds again lots of gold - remember no gold found in Greece, had to have come from somewhere else via war / trade\\n- “palace of Agamemnon”\\n\\nStill scholarship being conducted on these findings with new information, techniques, and technology. DNA analysis\\n\\nMinoans 1700 - 1500 BCE\\n- don’t know what language they spoke or what they called themselves\\n    - we call them Minoans after Greek legend Minos\\n- earliest influences on Mycenaean Greeks comes from interactions with Minoans\\n- Crete is rather equidistant between mainland Greece, Egypt, Cyprus, not terribly far from Italy\\n    - lots of communication with all the major powers of the time\\n\\nMinoan “Palaces”\\n- administrative, economic, and religious centers\\n    - palace and town integrated though these centers into a centripetal administrative whole\\n- similarities across Crete - surrounding settlements\\n- where they centralized control or competing palaces?\\n- Phaistos, Knossos, Malia, Zakros, Bournia, Kommos\\n    - can visit massive Knossos palace\\n- important because Mycenaeans adopt this palace structure\\n- “redistributed economy”\\n    - magazines - mass storage\\n    - lots of materials came in, were worked, and then sent back out for trade\\n\\nMinoans had scribes\\n- still undeciphered\\n- 3 different scripts\\n    - Cretan hieroglyphic script - pictographic\\n    - another hieroglyphic script from Phaistos\\n    - Linear A\\n\\nMinoans had lots of influence throughout Aegean\\n- found Minoan settlement in destroyed Akrotiri\\n- volcanic eruption destroyed island, encased everything in ash\\n\\nMycenaeans 1600 - 1200 BCE\\n- good to know these dates for testing lol\\n- by this time, Minoan influence is fanning out and interacting with Greek mainland & Aegean\\n\\nMycenae\\n- 1876 excavations - massive bronze age walled city\\n- habitation since Neolithic times\\n- many characteristics of what we find in Crete\\n- more militaristic - big walls - swords - art of warriors\\n- importing metallic materials not found on Greek peninsula (tin, bronze, gold)\\n- exporting textiles, olive oil, perfume\\n- massive stone architecture\\n    - requires significant control & organization to quarry stones & build huge walls\\n- 1300 - 1250 BC is peak Mycenae\\n- beehive tomb, tholos\\n- wrote using Linear B\\n    - translated in 1952\\n    - thousands of tablets, temporary annual records, unintentionally preserved from fires\\n    - scribes kept very detailed records of everything\\n        - scribes very unusually highly trained & literate\\n    - obsessive listing of personnel, livestock, agricultural & manufactured goods\\n    - “secondary” economy largely unknown - exports, trade w/ east\\n    - Linear B is Minoan script, but recording Greek language\\n    - Mycenaeans adopted Linear A for same purpose - to record palace information\\n- palaces controlling & recording high levels of organization, production, trade\\n- can see history of women in tablets as well\\n    - wives of 1% powerful men\\n    - women working in religious venues / sanctuaries\\n    - most women are enslaved laborers in textile industry - see lots of them come from Anatolia\\n- lots of enslaved labor (women & children) coming from coastal Anatolia\\n- 1400 - 1300 BC we see transition from Linear A to Linear B in Knossos\\n    - still not sure how Mycenaeans started appearing so much in Crete\\n\\nKingdom of Pylos\\n- split into 12 regions\\n- split between 2 halves of the state, perhaps from earlier independent districts', metadata={'source': '../../../../09-02-23 - Lecture 2 - The Bronze Age.md'}),\n",
       " Document(page_content=\"http://www.livescience.com/51984-ancient-spartan-palace-unearthed.html\\n- Mycenaean Sparta - “Ayios Vassileios” - burnt to ground in 14th century bc - potentially lost Spartan palace\\n- Linear B script tablets - kept unbaked for temporary use - baked by fire\\n    - names, records, intricate bureaucracy\\n    - these tablets would only be found in an administrative center in Mycenaean culture\\n\\nhttps://www.forbes.com/sites/kristinakillgrove/2015/08/26/the-most-interesting-thing-about-that-ancient-spartan-palace-isnt-the-palace-its-the-language/?sh=3a52208b478e\\n- lots of imported & otherwise high value items that show the importance of the site\\n- “Linear B is probably related to Linear A, which was used for writing down the Minoan language. \\xa0Texts in both Linear A and Linear B were initially found at\\xa0Knossos\\xa0on Crete by the renowned archaeologist Sir Arthur Evans at the turn of the 20th century”\\n- “When Linear B tablets were also found on the Greek mainland, Ventris got the idea to search the tablets from Crete for unique words--and he found them, in the form of place names. Building on\\xa0Alice Kober's discovery that Linear B was a syllabary, Ventris unlocked Linear B, showing that it is an early form of Greek and that, importantly, Knossos was a part of Mycenaean Greece in its waning years. \\xa0But Linear A, although it shares some symbols with Linear B, is to this day undeciphered.”\\n\\nAncGrc pp. 12-53 (Ch. 1, “Early Greece and the Bronze Age”)\\n\\nBefore late 1800s, no one knew advanced civilizations had existed in the Aegean during the Bronze Age.\\n\\n1871 - eccentric businessman Heinrich Schliemann is convinced that Troy was a real place, and the Iliad and the Odyssey referenced real civilizations\\n- discovers ruins of Troy\\n- excavates ruins of Mycenae - finds immense wealth\\n\\nSir Arthur Evans discovers huge complex at Cnossus on island of Crete - spent much time & money restoring it\\n- Cnossus center of powerful naval state\\n\\nIn 3rd century BC, anonymous Greek historian starts history in 1582 BC, when Greek tradition claimed that kings began to rule in Athens. He created The Parian Marble, that outlined a summary of his findings in a public gymnasium for all to see.\\n\\nFranchthi Cave in southeastern Greece inhabited continuously from c 20,000 to 3000 BC. 12k years ago, Greece changed significantly from melting ice sheets & rising sea levels. Hunter gatherers until 7000 - 3000 BC.\\n\\nRecorded history doesn’t begin until 8th century BC - before that is information from archeology and pulled from epic poems Iliad and Odyssey.\\n\\nsociety (late stone age)\\n- possibly up to 80% of men in city-state were farmers\\n- villages tended to stay around 100 - 300 people in size\\n- mostly egalitarian culture (aside from gender, age, skill) - very cooperative\\n- start falling behind technological & population growth of Near East & Egypt\\n\\nGreece in Early & Middle Bronze Ages\\n- bronze smithing arrives in Greece around 3000 BC, widespread in Europe by 2500 BC\\n- bronze started accelerating difference in classes\\n\\nLerna example of big change\\nsmall village for hundreds of years\\nexpanded rapidly in bronze age into bustling town with stone walls & large buildings\\n“corridor house” - the House of Tiles - similar structures seen in a couple other places\\nsign of steeper sociopolitical hierarchy\\nuncertain of language spoke here (pre-Greek)\\n\\nMinoan Civilization\\n\\nCrete\\n- settled in 7000 BC by Neolithic farmers & stock raisers probably from Anatolia\\n- disruption in 2200 BC, but not destruction\\n- 2100 BC, complete recovery & growth\\n- big palaces at Cnossus, Phaistos, Mallia, Zakro around 2000 BC\\n- palace - multifunctional mazes with quarters, workshops, and storerooms, all clustered around a large central courtyard\\n    - Cnossus - major reconstruction in 1700 BC, later reconstructions until 1375 BC\\n    - center for state\\n    - control of several hundred square miles\\n    - adopted “redistributive” system from Egypt & Near East\\n    - large control over distribution of goods, labor\\n- Cretans traded extensively with Cyclades, some off & on contact with Near East\\n    - became trade powerhouse in Middle Bronze Age - equidistant from Greece, Egypt, Near East\\n- c 1900 BC Linear A is developed for managerial work\\n\\nKnossos\\n\\nMinoan art & trade influences seen in Aegean - city of Akrotiri on island of Thera (modern Santorini) buried in volcanic ash c 1628 BC. Shows range of Minoan influence, 70 miles North of Crete.\\n\\nMinoans definitely had slaves (captured and traded women & children). Outside of slaves and ruling palace, seems like otherwise not much class inequality.\\n\\nUnsure exactly of the ruling structure - Minoan art notably lacks images of a King - so might have been ruling family.\\n\\nMinoan religion may be focused on fertility. Worship of “Minoan Lady”.\\n\\nGreece & the Aegean in the Late Bronze Age (1600 - 1200 BC)\\n\\nConnection between Cretans & Greeks began in 2000 BC when they started trading.\\n\\nGreeks adopted hella shit from Minoans - art, government form, writing form\\n\\nBy about 1450 BC, Greeks were living in Crete. By 800 BC, Cretans looked more like Greeks.\\n\\nMycenae seemingly appeared on the scene out of no where\\n\\nLarge shaft graves - stacks of burials - show wildly increasing wealth as time goes on\\n\\nMycenaeans adapted Minoan gravesites and created **tholos**** (tholoi plural) - huge beehive-like graves inside hills\\n\\nabsurdly huge stones and giant gravesites\\n\\nthought in dark ages to be created by gods\\n\\ntholos tomb\\n\\nMycenaeans razed and took over Crete by at least 1500 BC. Take over Knossos as center.\\n\\nKnossos burnt & looted in 1375 BC, possibly by mainland Mycenaeans. Knossos continued to be inhabited, but lost its place as ruler over Crete.\\n\\nYears of Glory (1400 - 1200 BC)\\n\\nHeight of Mycenaean rule\\n- at least 15 huge palaces found all over the place\\n- palace complexes were administrative, economic, and religious centers - but Mycenaean palaces were walled off from the relatively small settlements below\\n    - palaces probably didn’t rule more than ~400 sq. mi.\\n        - aside from Pylos, which ruled 1250 sq. mi.\\n- from 1500 to 1200 BC, Egypt, Near East, and Aegean were integrated in international diplomacy, wars, trade, and cultural transmission\\n- Mycenaeans probably managed to avoid most major squabbling as only a minor political power\\n    - Mycenaean Greece was probably relatively peaceful and prosperous\\n- palaces were very similar to Minoan palaces but\\n    - definitely smaller & less sophisticated\\n    - had a megaron instead of large courtyard\\n    - giant walls and on top of hills\\n    - art more focused on warriors than nature\\n- Mycenaeans appear from other records to be important, but not the biggest players like Egypt and the Hittites\\n- Mention of a King (wanax) in Linear B tablets from both Cnossus & Pylos\\n    - no evidence that wanax was considered divine or a priest-king of theocratic state\\n    - definitely a warrior-king\\n- Mycenaeans adopted Minoan gods around 1600 BC, but worshipped in different places (cult centers rather than caves & mountains)\\n    - primarily worshipped the “Mother Goddess”, though there were other male & female gods\\n    - only the goddesses were ever pictured in art - not sure why male gods weren’t\\n\\nwar\\n- mycenaean palaces “scream war”\\n- heavily armored soldiers\\n- kings and commanders fought in battle\\n- chariots were adopted from Near East, but were not really used in warfare because of how scraggly Greece was\\n    - in battle, chariots more so used for transport to battle (as mentioned in Homer’s epics)\\n    - chariots used primarily as signs of prestige\\n    - Knossos & Pylos around 200 chariots each\\n        - little compared to 2500 that Ramses II claimed to have defeated in a single battle\\n\\ncollapse\\n- at their height, all the giant palaces were destroyed by fire starting in 1200 BC, and by 1100 BC, they were all either destroyed or reduced to small towns\\n- My\", metadata={'source': '../../../../09-01-23 Readings.md'}),\n",
       " Document(page_content=' fire starting in 1200 BC, and by 1100 BC, they were all either destroyed or reduced to small towns\\n- Mycenaeans dispersed in all directions\\n- In Crete, fled to the mountains\\n- around 1200, the entire eastern Mediterranean was involved in war\\n    - Hittite empire fell apart\\n    - Anatolia & Syria suffered lots of damage\\n    - Egypt invaded by “marauding sea peoples” multiple times (led by Libyans?)\\n    - Philistines, assumedly made up in part by Mycenaeans\\n    - Troy destroyed (by Mycenaeans according to Homer’s epics - but we can’t confirm this archeologically)', metadata={'source': '../../../../09-01-23 Readings.md'})]"
      ]
     },
     "execution_count": 52,
     "metadata": {},
     "output_type": "execute_result"
    }
   ],
   "source": [
    "docs"
   ]
  },
  {
   "cell_type": "code",
   "execution_count": 54,
   "metadata": {},
   "outputs": [
    {
     "name": "stderr",
     "output_type": "stream",
     "text": [
      "  0%|          | 0/3 [00:00<?, ?it/s]"
     ]
    },
    {
     "name": "stderr",
     "output_type": "stream",
     "text": [
      "100%|██████████| 3/3 [11:25<00:00, 228.40s/it]\n"
     ]
    }
   ],
   "source": [
    "from tqdm import tqdm\n",
    "\n",
    "for i, d in tqdm(enumerate(docs), total=len(docs)):\n",
    "    extract_and_store_graph(d)"
   ]
  },
  {
   "cell_type": "code",
   "execution_count": 53,
   "metadata": {},
   "outputs": [
    {
     "data": {
      "text/plain": [
       "[]"
      ]
     },
     "execution_count": 53,
     "metadata": {},
     "output_type": "execute_result"
    }
   ],
   "source": [
    "# Delete the graph\n",
    "graph.query(\"MATCH (n) DETACH DELETE n\")"
   ]
  },
  {
   "cell_type": "code",
   "execution_count": null,
   "metadata": {},
   "outputs": [],
   "source": []
  }
 ],
 "metadata": {
  "kernelspec": {
   "display_name": "Python 3",
   "language": "python",
   "name": "python3"
  },
  "language_info": {
   "codemirror_mode": {
    "name": "ipython",
    "version": 3
   },
   "file_extension": ".py",
   "mimetype": "text/x-python",
   "name": "python",
   "nbconvert_exporter": "python",
   "pygments_lexer": "ipython3",
   "version": "3.10.11"
  }
 },
 "nbformat": 4,
 "nbformat_minor": 2
}
