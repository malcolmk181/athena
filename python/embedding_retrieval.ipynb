{
 "cells": [
  {
   "cell_type": "code",
   "execution_count": 1,
   "metadata": {},
   "outputs": [],
   "source": [
    "import embedding_handling"
   ]
  },
  {
   "cell_type": "code",
   "execution_count": 2,
   "metadata": {},
   "outputs": [],
   "source": [
    "collection = embedding_handling.get_vector_store_collection()"
   ]
  },
  {
   "cell_type": "code",
   "execution_count": 9,
   "metadata": {},
   "outputs": [],
   "source": [
    "# from '09-02-23 - Lecture 2 - The Bronze Age.md', chunk 1\n",
    "# document id: 'e3aa4638-6cd0-4d7e-9c2e-45df31301983'\n",
    "# chunk id: 'cf9d24c1-a144-426f-b685-fe243d93eea3'\n",
    "lecture2_chunk1_embeddings = collection.get(\n",
    "    ids=['cf9d24c1-a144-426f-b685-fe243d93eea3'],\n",
    "    include=['embeddings']\n",
    ")['embeddings'][0]"
   ]
  },
  {
   "cell_type": "code",
   "execution_count": 11,
   "metadata": {},
   "outputs": [],
   "source": [
    "query = \"Where did Heinrich Schliemann discover?\"\n",
    "query_embedding = embedding_handling.get_embedding_from_text(query)"
   ]
  },
  {
   "cell_type": "code",
   "execution_count": 14,
   "metadata": {},
   "outputs": [
    {
     "data": {
      "text/plain": [
       "{'ids': [['7e41be8e-b61f-4482-80ae-5201cb2921f3',\n",
       "   '51efff93-73ed-42c5-b300-4c826c5e1555',\n",
       "   '3eb1550d-4ca5-4b84-8092-d4eafcb95b99']],\n",
       " 'distances': [[0.13029691202375493,\n",
       "   0.18338768334413236,\n",
       "   0.18572379930980176]],\n",
       " 'metadatas': [[{'document_uuid': 'e3aa4638-6cd0-4d7e-9c2e-45df31301983'},\n",
       "   {'document_uuid': '6909ee8b-f079-48a8-9d1d-5bba3a4ef142'},\n",
       "   {'document_uuid': '6909ee8b-f079-48a8-9d1d-5bba3a4ef142'}]],\n",
       " 'embeddings': None,\n",
       " 'documents': [['09-02-23 - Lecture 2 - The Bronze Age.md',\n",
       "   '09-01-23 Readings.md',\n",
       "   '09-01-23 Readings.md']]}"
      ]
     },
     "execution_count": 14,
     "metadata": {},
     "output_type": "execute_result"
    }
   ],
   "source": [
    "collection.query([query_embedding], n_results=3)"
   ]
  },
  {
   "cell_type": "code",
   "execution_count": null,
   "metadata": {},
   "outputs": [],
   "source": []
  }
 ],
 "metadata": {
  "kernelspec": {
   "display_name": "venv",
   "language": "python",
   "name": "python3"
  },
  "language_info": {
   "codemirror_mode": {
    "name": "ipython",
    "version": 3
   },
   "file_extension": ".py",
   "mimetype": "text/x-python",
   "name": "python",
   "nbconvert_exporter": "python",
   "pygments_lexer": "ipython3",
   "version": "3.10.11"
  }
 },
 "nbformat": 4,
 "nbformat_minor": 2
}
