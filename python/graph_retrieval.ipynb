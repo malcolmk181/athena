{
 "cells": [
  {
   "cell_type": "code",
   "execution_count": 1,
   "metadata": {},
   "outputs": [],
   "source": [
    "from langchain.chains import GraphCypherQAChain\n",
    "\n",
    "import embedding_handling\n",
    "import file_handling\n",
    "import graph_handling"
   ]
  },
  {
   "cell_type": "code",
   "execution_count": 2,
   "metadata": {},
   "outputs": [],
   "source": [
    "graph = graph_handling.get_graph_connector()"
   ]
  },
  {
   "cell_type": "code",
   "execution_count": 3,
   "metadata": {},
   "outputs": [],
   "source": [
    "graph.refresh_schema()"
   ]
  },
  {
   "cell_type": "code",
   "execution_count": 4,
   "metadata": {},
   "outputs": [],
   "source": [
    "cypher_chain = GraphCypherQAChain.from_llm(\n",
    "    graph=graph,\n",
    "    cypher_llm=graph_handling.GPT4,\n",
    "    qa_llm=graph_handling.GPT4,\n",
    "    validate_cypher=True, # Validate relationship directions\n",
    "    verbose=True\n",
    ")"
   ]
  },
  {
   "cell_type": "code",
   "execution_count": 7,
   "metadata": {},
   "outputs": [
    {
     "name": "stdout",
     "output_type": "stream",
     "text": [
      "\n",
      "\n",
      "\u001b[1m> Entering new GraphCypherQAChain chain...\u001b[0m\n",
      "Generated Cypher:\n",
      "\u001b[32;1m\u001b[1;3mMATCH (p:Person {name: \"Heinrich Schliemann\"})-[:DISCOVERED]->(pl:Place) RETURN pl.name\u001b[0m\n",
      "Full Context:\n",
      "\u001b[32;1m\u001b[1;3m[{'pl.name': 'Troy'}, {'pl.name': 'Mycenae'}]\u001b[0m\n",
      "\n",
      "\u001b[1m> Finished chain.\u001b[0m\n"
     ]
    },
    {
     "data": {
      "text/plain": [
       "'Heinrich Schliemann made his discoveries in Troy and Mycenae.'"
      ]
     },
     "execution_count": 7,
     "metadata": {},
     "output_type": "execute_result"
    }
   ],
   "source": [
    "cypher_chain.run(\"Where did Heinrich Schliemann discover?\")"
   ]
  },
  {
   "cell_type": "code",
   "execution_count": 11,
   "metadata": {},
   "outputs": [
    {
     "name": "stdout",
     "output_type": "stream",
     "text": [
      "\n",
      "        Node properties are the following:\n",
      "        [{'labels': 'Place', 'properties': [{'property': 'discoverydate', 'type': 'STRING'}, {'property': 'rebuildings', 'type': 'STRING'}, {'property': 'importance', 'type': 'STRING'}, {'property': 'id', 'type': 'STRING'}, {'property': 'name', 'type': 'STRING'}, {'property': 'importantfeature', 'type': 'STRING'}, {'property': 'description', 'type': 'STRING'}, {'property': 'statehalves', 'type': 'STRING'}, {'property': 'regions', 'type': 'STRING'}, {'property': 'possiblestructure', 'type': 'STRING'}, {'property': 'destructiondate', 'type': 'STRING'}, {'property': 'alias', 'type': 'STRING'}, {'property': 'inhabitationperiod', 'type': 'STRING'}, {'property': 'significantchange', 'type': 'STRING'}, {'property': 'startofrecordedhistory', 'type': 'STRING'}, {'property': 'rapidexpansion', 'type': 'STRING'}, {'property': 'burntandlooteddate', 'type': 'STRING'}, {'property': 'lostrulerstatus', 'type': 'STRING'}, {'property': 'rulearea', 'type': 'STRING'}]}, {'labels': 'Artifact', 'properties': [{'property': 'name', 'type': 'STRING'}, {'property': 'id', 'type': 'STRING'}, {'property': 'composition', 'type': 'STRING'}, {'property': 'preservationmethod', 'type': 'STRING'}, {'property': 'content', 'type': 'STRING'}, {'property': 'usage', 'type': 'STRING'}, {'property': 'locationfound', 'type': 'STRING'}, {'property': 'creationdate', 'type': 'STRING'}]}, {'labels': 'Script', 'properties': [{'property': 'description', 'type': 'STRING'}, {'property': 'name', 'type': 'STRING'}, {'property': 'id', 'type': 'STRING'}]}, {'labels': 'Person', 'properties': [{'property': 'name', 'type': 'STRING'}, {'property': 'id', 'type': 'STRING'}, {'property': 'characteristics', 'type': 'STRING'}, {'property': 'profession', 'type': 'STRING'}, {'property': 'timeperiod', 'type': 'STRING'}, {'property': 'role', 'type': 'STRING'}, {'property': 'divinestatus', 'type': 'STRING'}, {'property': 'warriorstatus', 'type': 'STRING'}, {'property': 'chariotsdefeated', 'type': 'STRING'}]}, {'labels': 'Civilization', 'properties': [{'property': 'timeperiod', 'type': 'STRING'}, {'property': 'id', 'type': 'STRING'}, {'property': 'name', 'type': 'STRING'}, {'property': 'location', 'type': 'STRING'}, {'property': 'influence', 'type': 'STRING'}, {'property': 'interactionarea', 'type': 'STRING'}]}, {'labels': 'Group', 'properties': [{'property': 'description', 'type': 'STRING'}, {'property': 'id', 'type': 'STRING'}, {'property': 'name', 'type': 'STRING'}]}, {'labels': 'Location', 'properties': [{'property': 'tradepartners', 'type': 'STRING'}, {'property': 'influencerange', 'type': 'STRING'}, {'property': 'greekinfluence', 'type': 'STRING'}, {'property': 'majorpalaces', 'type': 'STRING'}, {'property': 'id', 'type': 'STRING'}, {'property': 'name', 'type': 'STRING'}, {'property': 'settlement', 'type': 'STRING'}, {'property': 'function', 'type': 'STRING'}, {'property': 'controlarea', 'type': 'STRING'}, {'property': 'reconstructiondates', 'type': 'STRING'}, {'property': 'economicsystem', 'type': 'STRING'}, {'property': 'minoaninfluence', 'type': 'STRING'}, {'property': 'settlementincrete', 'type': 'STRING'}, {'property': 'appearance', 'type': 'STRING'}, {'property': 'burialstyle', 'type': 'STRING'}]}, {'labels': 'Structure', 'properties': [{'property': 'name', 'type': 'STRING'}, {'property': 'importance', 'type': 'STRING'}, {'property': 'function', 'type': 'STRING'}, {'property': 'id', 'type': 'STRING'}, {'property': 'rulearea', 'type': 'STRING'}, {'property': 'numberfound', 'type': 'STRING'}]}, {'labels': 'Concept', 'properties': [{'property': 'name', 'type': 'STRING'}, {'property': 'id', 'type': 'STRING'}]}, {'labels': 'Language', 'properties': [{'property': 'discoverylocation', 'type': 'STRING'}, {'property': 'name', 'type': 'STRING'}, {'property': 'relation', 'type': 'STRING'}, {'property': 'decipherstatus', 'type': 'STRING'}, {'property': 'id', 'type': 'STRING'}, {'property': 'form', 'type': 'STRING'}]}, {'labels': 'People', 'properties': [{'property': 'id', 'type': 'STRING'}, {'property': 'name', 'type': 'STRING'}]}, {'labels': 'Settlement', 'properties': [{'property': 'status', 'type': 'STRING'}, {'property': 'id', 'type': 'STRING'}, {'property': 'name', 'type': 'STRING'}]}, {'labels': 'Deity', 'properties': [{'property': 'adoptionyear', 'type': 'STRING'}, {'property': 'id', 'type': 'STRING'}, {'property': 'name', 'type': 'STRING'}, {'property': 'primaryworship', 'type': 'STRING'}]}, {'labels': 'ObsidianNote', 'properties': [{'property': 'file_name', 'type': 'STRING'}, {'property': 'id', 'type': 'STRING'}]}, {'labels': 'ObsidianNoteChunk', 'properties': [{'property': 'id', 'type': 'STRING'}, {'property': 'embeddings', 'type': 'LIST'}, {'property': 'chunk_number', 'type': 'INTEGER'}, {'property': 'file_name', 'type': 'STRING'}]}, {'labels': 'ObsidianVaultNode', 'properties': [{'property': 'id', 'type': 'STRING'}]}, {'labels': 'Timeperiod', 'properties': [{'property': 'id', 'type': 'STRING'}, {'property': 'name', 'type': 'STRING'}, {'property': 'startyear', 'type': 'STRING'}, {'property': 'endyear', 'type': 'STRING'}]}, {'labels': 'Object', 'properties': [{'property': 'name', 'type': 'STRING'}, {'property': 'origin', 'type': 'STRING'}, {'property': 'usage', 'type': 'STRING'}, {'property': 'id', 'type': 'STRING'}, {'property': 'description', 'type': 'STRING'}]}]\n",
      "        Relationship properties are the following:\n",
      "        [{'properties': [{'property': 'year', 'type': 'STRING'}], 'type': 'ADOPTED'}, {'properties': [{'property': 'year', 'type': 'STRING'}], 'type': 'TOOKOVER'}, {'properties': [{'property': 'year', 'type': 'STRING'}], 'type': 'BURNTANDLOOTED'}]\n",
      "        The relationships are the following:\n",
      "        ['(:Place)-[:CONTAINED]->(:Artifact)', '(:Place)-[:ISLOCATEDIN]->(:Place)', '(:Place)-[:ASSOCIATEDWITH]->(:Person)', '(:Person)-[:DISCOVERED]->(:Place)', '(:Person)-[:CREATED]->(:Artifact)', '(:Person)-[:RULED]->(:Place)', '(:Civilization)-[:USED]->(:Script)', '(:Civilization)-[:BUILT]->(:Structure)', '(:Civilization)-[:SETTLED]->(:Settlement)', '(:Civilization)-[:INFLUENCED]->(:Civilization)', '(:Civilization)-[:SETTLED_IN]->(:Location)', '(:Civilization)-[:BUILT_PALACE_IN]->(:Location)', '(:Group)-[:MIGRATEDTO]->(:Place)', '(:Group)-[:DESTROYED]->(:Place)', '(:Group)-[:LOCATEDAT]->(:Place)', '(:Group)-[:INVADED]->(:Place)', '(:Group)-[:ASSOCIATEDWITH]->(:Group)', '(:Location)-[:TRADED_WITH]->(:Location)', '(:Location)-[:SETTLED_IN]->(:Location)', '(:Location)-[:ADAPTED_FROM]->(:Civilization)', '(:Language)-[:RELATEDTO]->(:Language)', '(:People)-[:TOOKOVER]->(:Place)', '(:People)-[:BURNTANDLOOTED]->(:Place)', '(:People)-[:ADOPTED]->(:Deity)', '(:ObsidianNote)-[:CONTAINS_CHUNK]->(:ObsidianNoteChunk)', '(:ObsidianNoteChunk)-[:REFERENCES_NODE]->(:Structure)', '(:ObsidianNoteChunk)-[:REFERENCES_NODE]->(:Civilization)', '(:ObsidianNoteChunk)-[:REFERENCES_NODE]->(:Place)', '(:ObsidianNoteChunk)-[:REFERENCES_NODE]->(:Artifact)', '(:ObsidianNoteChunk)-[:REFERENCES_NODE]->(:Person)', '(:ObsidianNoteChunk)-[:REFERENCES_NODE]->(:Settlement)', '(:ObsidianNoteChunk)-[:REFERENCES_NODE]->(:Script)', '(:ObsidianNoteChunk)-[:REFERENCES_NODE]->(:Language)', '(:ObsidianNoteChunk)-[:REFERENCES_NODE]->(:Location)', '(:ObsidianNoteChunk)-[:REFERENCES_NODE]->(:Timeperiod)', '(:ObsidianNoteChunk)-[:REFERENCES_NODE]->(:Concept)', '(:ObsidianNoteChunk)-[:REFERENCES_NODE]->(:Deity)', '(:ObsidianNoteChunk)-[:REFERENCES_NODE]->(:People)', '(:ObsidianNoteChunk)-[:REFERENCES_NODE]->(:Group)', '(:ObsidianNoteChunk)-[:REFERENCES_NODE]->(:Object)', '(:ObsidianVaultNode)-[:CONTAINS_NOTE]->(:ObsidianNote)', '(:Object)-[:LOCATEDAT]->(:Place)']\n",
      "        \n"
     ]
    }
   ],
   "source": [
    "print(graph.schema)"
   ]
  },
  {
   "cell_type": "code",
   "execution_count": 12,
   "metadata": {},
   "outputs": [
    {
     "name": "stdout",
     "output_type": "stream",
     "text": [
      "\n",
      "\n",
      "\u001b[1m> Entering new GraphCypherQAChain chain...\u001b[0m\n",
      "Generated Cypher:\n",
      "\u001b[32;1m\u001b[1;3mMATCH (p:People {name: 'Mycenaeans'})-[:REFERENCES_NODE]-(o:ObsidianNoteChunk) RETURN o.id\u001b[0m\n",
      "Full Context:\n",
      "\u001b[32;1m\u001b[1;3m[]\u001b[0m\n",
      "\n",
      "\u001b[1m> Finished chain.\u001b[0m\n"
     ]
    },
    {
     "data": {
      "text/plain": [
       "\"I'm sorry, but I don't know the answer.\""
      ]
     },
     "execution_count": 12,
     "metadata": {},
     "output_type": "execute_result"
    }
   ],
   "source": [
    "cypher_chain.run(\"What are the IDs of the ObsidianNoteChunk nodes that have a relationship with the Mycenaeans?\")"
   ]
  },
  {
   "cell_type": "code",
   "execution_count": 1,
   "metadata": {},
   "outputs": [],
   "source": [
    "import graph_handling"
   ]
  },
  {
   "cell_type": "code",
   "execution_count": 4,
   "metadata": {},
   "outputs": [],
   "source": [
    "names = graph_handling.get_graph_connector().query(\"\"\"MATCH (n)\n",
    "WHERE n.name IS NOT NULL\n",
    "RETURN n.name\"\"\")\n"
   ]
  },
  {
   "cell_type": "code",
   "execution_count": 5,
   "metadata": {},
   "outputs": [
    {
     "data": {
      "text/plain": [
       "[{'n.name': 'Greece'},\n",
       " {'n.name': 'Mycenae'},\n",
       " {'n.name': 'Absurdly Huge Stones And Giant Gravesites'},\n",
       " {'n.name': 'Tholos Tomb'},\n",
       " {'n.name': 'Knossos'},\n",
       " {'n.name': 'Wanax'},\n",
       " {'n.name': 'Mother Goddess'},\n",
       " {'n.name': 'Mycenaeanpalaces'},\n",
       " {'n.name': 'Heavilyarmoredsoldiers'},\n",
       " {'n.name': 'Kingsandcommanders'},\n",
       " {'n.name': 'Chariots'},\n",
       " {'n.name': 'Collapse'},\n",
       " {'n.name': 'Heinrich Schliemann'},\n",
       " {'n.name': 'Troy'},\n",
       " {'n.name': 'The Treasure Of Priam'},\n",
       " {'n.name': 'Mycenae'},\n",
       " {'n.name': 'Grave Circle A'},\n",
       " {'n.name': 'Minoans'},\n",
       " {'n.name': 'Crete'},\n",
       " {'n.name': 'Minoan Palaces'},\n",
       " {'n.name': 'Cretan Hieroglyphic Script'},\n",
       " {'n.name': 'Hieroglyphic Script From Phaistos'},\n",
       " {'n.name': 'Linear A'},\n",
       " {'n.name': 'Akrotiri'},\n",
       " {'n.name': 'Mycenaeans'},\n",
       " {'n.name': 'Kingdom Of Pylos'},\n",
       " {'n.name': 'Mycenaean Sparta'},\n",
       " {'n.name': 'Linear B Script Tablets'},\n",
       " {'n.name': 'Linear A'},\n",
       " {'n.name': 'Linear B'},\n",
       " {'n.name': 'Odyssey'},\n",
       " {'n.name': 'Near East'},\n",
       " {'n.name': 'Egypt'},\n",
       " {'n.name': 'Lerna'},\n",
       " {'n.name': 'House Of Tiles'},\n",
       " {'n.name': 'Minoan Civilization'},\n",
       " {'n.name': 'Crete'},\n",
       " {'n.name': 'Sir Arthur Evans'},\n",
       " {'n.name': 'Cnossus'},\n",
       " {'n.name': 'Anonymous Greek Historian'},\n",
       " {'n.name': 'The Parian Marble'},\n",
       " {'n.name': 'Franchthi Cave'},\n",
       " {'n.name': 'Greece'},\n",
       " {'n.name': 'Iliad'}]"
      ]
     },
     "execution_count": 5,
     "metadata": {},
     "output_type": "execute_result"
    }
   ],
   "source": [
    "names"
   ]
  },
  {
   "cell_type": "code",
   "execution_count": 2,
   "metadata": {},
   "outputs": [],
   "source": [
    "names = graph_handling.get_all_node_names()"
   ]
  },
  {
   "cell_type": "code",
   "execution_count": 3,
   "metadata": {},
   "outputs": [
    {
     "data": {
      "text/plain": [
       "['Greece',\n",
       " 'Mycenae',\n",
       " 'Absurdly Huge Stones And Giant Gravesites',\n",
       " 'Tholos Tomb',\n",
       " 'Knossos',\n",
       " 'Wanax',\n",
       " 'Mother Goddess',\n",
       " 'Mycenaeanpalaces',\n",
       " 'Heavilyarmoredsoldiers',\n",
       " 'Kingsandcommanders',\n",
       " 'Chariots',\n",
       " 'Collapse',\n",
       " 'Heinrich Schliemann',\n",
       " 'Troy',\n",
       " 'The Treasure Of Priam',\n",
       " 'Mycenae',\n",
       " 'Grave Circle A',\n",
       " 'Minoans',\n",
       " 'Crete',\n",
       " 'Minoan Palaces',\n",
       " 'Cretan Hieroglyphic Script',\n",
       " 'Hieroglyphic Script From Phaistos',\n",
       " 'Linear A',\n",
       " 'Akrotiri',\n",
       " 'Mycenaeans',\n",
       " 'Kingdom Of Pylos',\n",
       " 'Mycenaean Sparta',\n",
       " 'Linear B Script Tablets',\n",
       " 'Linear A',\n",
       " 'Linear B',\n",
       " 'Odyssey',\n",
       " 'Near East',\n",
       " 'Egypt',\n",
       " 'Lerna',\n",
       " 'House Of Tiles',\n",
       " 'Minoan Civilization',\n",
       " 'Crete',\n",
       " 'Sir Arthur Evans',\n",
       " 'Cnossus',\n",
       " 'Anonymous Greek Historian',\n",
       " 'The Parian Marble',\n",
       " 'Franchthi Cave',\n",
       " 'Greece',\n",
       " 'Iliad']"
      ]
     },
     "execution_count": 3,
     "metadata": {},
     "output_type": "execute_result"
    }
   ],
   "source": [
    "names"
   ]
  },
  {
   "cell_type": "code",
   "execution_count": 4,
   "metadata": {},
   "outputs": [
    {
     "name": "stdout",
     "output_type": "stream",
     "text": [
      "\n",
      "\n",
      "\u001b[1m> Entering new LLMChain chain...\u001b[0m\n",
      "Prompt after formatting:\n",
      "\u001b[32;1m\u001b[1;3mSystem: # Prompt for GPT-4:\n",
      "Question:\n",
      "\"Where did Heinrich Schliemann discover?\"\n",
      "\n",
      "List of Node Names from the Knowledge Graph:\n",
      "Greece, Mycenae, Absurdly Huge Stones And Giant Gravesites, Tholos Tomb, Knossos, Wanax, Mother Goddess, Mycenaeanpalaces, Heavilyarmoredsoldiers, Kingsandcommanders, Chariots, Collapse, Heinrich Schliemann, Troy, The Treasure Of Priam, Mycenae, Grave Circle A, Minoans, Crete, Minoan Palaces, Cretan Hieroglyphic Script, Hieroglyphic Script From Phaistos, Linear A, Akrotiri, Mycenaeans, Kingdom Of Pylos, Mycenaean Sparta, Linear B Script Tablets, Linear A, Linear B, Odyssey, Near East, Egypt, Lerna, House Of Tiles, Minoan Civilization, Crete, Sir Arthur Evans, Cnossus, Anonymous Greek Historian, The Parian Marble, Franchthi Cave, Greece, Iliad\n",
      "\n",
      "# Task for GPT-4:\n",
      "Analyze the provided list of names from the knowledge graph in the context of the question. Identify and list the names that are most relevant to the question, ordering them from the most important to less important. Do not include names that are not very important. Consider only the content of the question and do not use prior knowledge.\n",
      "\n",
      "Human: Tip: Make sure to answer in the correct format\u001b[0m\n",
      "\n",
      "\u001b[1m> Finished chain.\u001b[0m\n"
     ]
    }
   ],
   "source": [
    "relevant_names = graph_handling.get_relevant_nodes_from_question(graph_handling.GPT4, names, \"Where did Heinrich Schliemann discover?\", True)"
   ]
  },
  {
   "cell_type": "code",
   "execution_count": 5,
   "metadata": {},
   "outputs": [
    {
     "data": {
      "text/plain": [
       "NodeNameList(names=['Heinrich Schliemann', 'Troy', 'The Treasure Of Priam', 'Mycenae', 'Grave Circle A', 'Greece'])"
      ]
     },
     "execution_count": 5,
     "metadata": {},
     "output_type": "execute_result"
    }
   ],
   "source": [
    "relevant_names"
   ]
  },
  {
   "cell_type": "code",
   "execution_count": 6,
   "metadata": {},
   "outputs": [],
   "source": [
    "connected_to_troy = graph_handling.get_graph_connector().query(\"\"\"MATCH (n)\n",
    "WHERE n.name = 'Troy'\n",
    "OPTIONAL MATCH (n)-[r]-(related)\n",
    "RETURN n, collect(r) as relationships, collect(related) as relatedNodes\"\"\")"
   ]
  },
  {
   "cell_type": "code",
   "execution_count": 25,
   "metadata": {},
   "outputs": [],
   "source": [
    "connected_to_troy2 = graph_handling.get_graph_connector().query(\"\"\"\n",
    "MATCH (n)\n",
    "WHERE n.name = 'Troy'\n",
    "OPTIONAL MATCH (n)-[r]-(related)\n",
    "RETURN n, \n",
    "       collect(r) as relationships, \n",
    "       collect(\n",
    "           CASE WHEN 'ObsidianNoteChunk' IN labels(related) \n",
    "                THEN {label: 'ObsidianNoteChunk', file_name: related.file_name, chunk_number: related.chunk_number, id: related.id} \n",
    "                ELSE related \n",
    "           END\n",
    "       ) as relatedNodes\n",
    "\"\"\")"
   ]
  },
  {
   "cell_type": "code",
   "execution_count": 26,
   "metadata": {},
   "outputs": [
    {
     "data": {
      "text/plain": [
       "[{'profession': 'archaeologist',\n",
       "  'characteristics': 'brilliant linguist, questionable, problematic',\n",
       "  'name': 'Heinrich Schliemann',\n",
       "  'id': 'Heinrich Schliemann'},\n",
       " {'id': 'b3c1a0e4-8eaf-47ed-b3d5-bf9953129af3',\n",
       "  'chunk_number': 0,\n",
       "  'label': 'ObsidianNoteChunk',\n",
       "  'file_name': '09-02-23 - Lecture 2 - The Bronze Age.md'}]"
      ]
     },
     "execution_count": 26,
     "metadata": {},
     "output_type": "execute_result"
    }
   ],
   "source": [
    "# nodes that have a relationship with the node Troy\n",
    "connected_to_troy2[0]['relatedNodes']\n",
    "# from here can grab id from nodes with label = ObsidianNoteChunk\n",
    "\n",
    "# the relationships key can also be used to have GPT reason about the relationships between\n",
    "# the Troy node and the other nodes (i.e. Heinrich Schliemann)"
   ]
  },
  {
   "cell_type": "code",
   "execution_count": null,
   "metadata": {},
   "outputs": [],
   "source": []
  }
 ],
 "metadata": {
  "kernelspec": {
   "display_name": "venv",
   "language": "python",
   "name": "python3"
  },
  "language_info": {
   "codemirror_mode": {
    "name": "ipython",
    "version": 3
   },
   "file_extension": ".py",
   "mimetype": "text/x-python",
   "name": "python",
   "nbconvert_exporter": "python",
   "pygments_lexer": "ipython3",
   "version": "3.10.11"
  }
 },
 "nbformat": 4,
 "nbformat_minor": 2
}
