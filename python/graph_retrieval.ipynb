{
 "cells": [
  {
   "cell_type": "code",
   "execution_count": 1,
   "metadata": {},
   "outputs": [],
   "source": [
    "from langchain.chains import GraphCypherQAChain\n",
    "\n",
    "import embedding_handling\n",
    "import file_handling\n",
    "import graph_handling"
   ]
  },
  {
   "cell_type": "code",
   "execution_count": 2,
   "metadata": {},
   "outputs": [],
   "source": [
    "graph = graph_handling.get_graph_connector()"
   ]
  },
  {
   "cell_type": "code",
   "execution_count": 3,
   "metadata": {},
   "outputs": [],
   "source": [
    "graph.refresh_schema()"
   ]
  },
  {
   "cell_type": "code",
   "execution_count": 4,
   "metadata": {},
   "outputs": [],
   "source": [
    "cypher_chain = GraphCypherQAChain.from_llm(\n",
    "    graph=graph,\n",
    "    cypher_llm=graph_handling.GPT4,\n",
    "    qa_llm=graph_handling.GPT4,\n",
    "    validate_cypher=True, # Validate relationship directions\n",
    "    verbose=True\n",
    ")"
   ]
  },
  {
   "cell_type": "code",
   "execution_count": 7,
   "metadata": {},
   "outputs": [
    {
     "name": "stdout",
     "output_type": "stream",
     "text": [
      "\n",
      "\n",
      "\u001b[1m> Entering new GraphCypherQAChain chain...\u001b[0m\n",
      "Generated Cypher:\n",
      "\u001b[32;1m\u001b[1;3mMATCH (p:Person {name: \"Heinrich Schliemann\"})-[:DISCOVERED]->(pl:Place) RETURN pl.name\u001b[0m\n",
      "Full Context:\n",
      "\u001b[32;1m\u001b[1;3m[{'pl.name': 'Troy'}, {'pl.name': 'Mycenae'}]\u001b[0m\n",
      "\n",
      "\u001b[1m> Finished chain.\u001b[0m\n"
     ]
    },
    {
     "data": {
      "text/plain": [
       "'Heinrich Schliemann made his discoveries in Troy and Mycenae.'"
      ]
     },
     "execution_count": 7,
     "metadata": {},
     "output_type": "execute_result"
    }
   ],
   "source": [
    "cypher_chain.run(\"Where did Heinrich Schliemann discover?\")"
   ]
  },
  {
   "cell_type": "code",
   "execution_count": 11,
   "metadata": {},
   "outputs": [
    {
     "name": "stdout",
     "output_type": "stream",
     "text": [
      "\n",
      "        Node properties are the following:\n",
      "        [{'labels': 'Place', 'properties': [{'property': 'discoverydate', 'type': 'STRING'}, {'property': 'rebuildings', 'type': 'STRING'}, {'property': 'importance', 'type': 'STRING'}, {'property': 'id', 'type': 'STRING'}, {'property': 'name', 'type': 'STRING'}, {'property': 'importantfeature', 'type': 'STRING'}, {'property': 'description', 'type': 'STRING'}, {'property': 'statehalves', 'type': 'STRING'}, {'property': 'regions', 'type': 'STRING'}, {'property': 'possiblestructure', 'type': 'STRING'}, {'property': 'destructiondate', 'type': 'STRING'}, {'property': 'alias', 'type': 'STRING'}, {'property': 'inhabitationperiod', 'type': 'STRING'}, {'property': 'significantchange', 'type': 'STRING'}, {'property': 'startofrecordedhistory', 'type': 'STRING'}, {'property': 'rapidexpansion', 'type': 'STRING'}, {'property': 'burntandlooteddate', 'type': 'STRING'}, {'property': 'lostrulerstatus', 'type': 'STRING'}, {'property': 'rulearea', 'type': 'STRING'}]}, {'labels': 'Artifact', 'properties': [{'property': 'name', 'type': 'STRING'}, {'property': 'id', 'type': 'STRING'}, {'property': 'composition', 'type': 'STRING'}, {'property': 'preservationmethod', 'type': 'STRING'}, {'property': 'content', 'type': 'STRING'}, {'property': 'usage', 'type': 'STRING'}, {'property': 'locationfound', 'type': 'STRING'}, {'property': 'creationdate', 'type': 'STRING'}]}, {'labels': 'Script', 'properties': [{'property': 'description', 'type': 'STRING'}, {'property': 'name', 'type': 'STRING'}, {'property': 'id', 'type': 'STRING'}]}, {'labels': 'Person', 'properties': [{'property': 'name', 'type': 'STRING'}, {'property': 'id', 'type': 'STRING'}, {'property': 'characteristics', 'type': 'STRING'}, {'property': 'profession', 'type': 'STRING'}, {'property': 'timeperiod', 'type': 'STRING'}, {'property': 'role', 'type': 'STRING'}, {'property': 'divinestatus', 'type': 'STRING'}, {'property': 'warriorstatus', 'type': 'STRING'}, {'property': 'chariotsdefeated', 'type': 'STRING'}]}, {'labels': 'Civilization', 'properties': [{'property': 'timeperiod', 'type': 'STRING'}, {'property': 'id', 'type': 'STRING'}, {'property': 'name', 'type': 'STRING'}, {'property': 'location', 'type': 'STRING'}, {'property': 'influence', 'type': 'STRING'}, {'property': 'interactionarea', 'type': 'STRING'}]}, {'labels': 'Group', 'properties': [{'property': 'description', 'type': 'STRING'}, {'property': 'id', 'type': 'STRING'}, {'property': 'name', 'type': 'STRING'}]}, {'labels': 'Location', 'properties': [{'property': 'tradepartners', 'type': 'STRING'}, {'property': 'influencerange', 'type': 'STRING'}, {'property': 'greekinfluence', 'type': 'STRING'}, {'property': 'majorpalaces', 'type': 'STRING'}, {'property': 'id', 'type': 'STRING'}, {'property': 'name', 'type': 'STRING'}, {'property': 'settlement', 'type': 'STRING'}, {'property': 'function', 'type': 'STRING'}, {'property': 'controlarea', 'type': 'STRING'}, {'property': 'reconstructiondates', 'type': 'STRING'}, {'property': 'economicsystem', 'type': 'STRING'}, {'property': 'minoaninfluence', 'type': 'STRING'}, {'property': 'settlementincrete', 'type': 'STRING'}, {'property': 'appearance', 'type': 'STRING'}, {'property': 'burialstyle', 'type': 'STRING'}]}, {'labels': 'Structure', 'properties': [{'property': 'name', 'type': 'STRING'}, {'property': 'importance', 'type': 'STRING'}, {'property': 'function', 'type': 'STRING'}, {'property': 'id', 'type': 'STRING'}, {'property': 'rulearea', 'type': 'STRING'}, {'property': 'numberfound', 'type': 'STRING'}]}, {'labels': 'Concept', 'properties': [{'property': 'name', 'type': 'STRING'}, {'property': 'id', 'type': 'STRING'}]}, {'labels': 'Language', 'properties': [{'property': 'discoverylocation', 'type': 'STRING'}, {'property': 'name', 'type': 'STRING'}, {'property': 'relation', 'type': 'STRING'}, {'property': 'decipherstatus', 'type': 'STRING'}, {'property': 'id', 'type': 'STRING'}, {'property': 'form', 'type': 'STRING'}]}, {'labels': 'People', 'properties': [{'property': 'id', 'type': 'STRING'}, {'property': 'name', 'type': 'STRING'}]}, {'labels': 'Settlement', 'properties': [{'property': 'status', 'type': 'STRING'}, {'property': 'id', 'type': 'STRING'}, {'property': 'name', 'type': 'STRING'}]}, {'labels': 'Deity', 'properties': [{'property': 'adoptionyear', 'type': 'STRING'}, {'property': 'id', 'type': 'STRING'}, {'property': 'name', 'type': 'STRING'}, {'property': 'primaryworship', 'type': 'STRING'}]}, {'labels': 'ObsidianNote', 'properties': [{'property': 'file_name', 'type': 'STRING'}, {'property': 'id', 'type': 'STRING'}]}, {'labels': 'ObsidianNoteChunk', 'properties': [{'property': 'id', 'type': 'STRING'}, {'property': 'embeddings', 'type': 'LIST'}, {'property': 'chunk_number', 'type': 'INTEGER'}, {'property': 'file_name', 'type': 'STRING'}]}, {'labels': 'ObsidianVaultNode', 'properties': [{'property': 'id', 'type': 'STRING'}]}, {'labels': 'Timeperiod', 'properties': [{'property': 'id', 'type': 'STRING'}, {'property': 'name', 'type': 'STRING'}, {'property': 'startyear', 'type': 'STRING'}, {'property': 'endyear', 'type': 'STRING'}]}, {'labels': 'Object', 'properties': [{'property': 'name', 'type': 'STRING'}, {'property': 'origin', 'type': 'STRING'}, {'property': 'usage', 'type': 'STRING'}, {'property': 'id', 'type': 'STRING'}, {'property': 'description', 'type': 'STRING'}]}]\n",
      "        Relationship properties are the following:\n",
      "        [{'properties': [{'property': 'year', 'type': 'STRING'}], 'type': 'ADOPTED'}, {'properties': [{'property': 'year', 'type': 'STRING'}], 'type': 'TOOKOVER'}, {'properties': [{'property': 'year', 'type': 'STRING'}], 'type': 'BURNTANDLOOTED'}]\n",
      "        The relationships are the following:\n",
      "        ['(:Place)-[:CONTAINED]->(:Artifact)', '(:Place)-[:ISLOCATEDIN]->(:Place)', '(:Place)-[:ASSOCIATEDWITH]->(:Person)', '(:Person)-[:DISCOVERED]->(:Place)', '(:Person)-[:CREATED]->(:Artifact)', '(:Person)-[:RULED]->(:Place)', '(:Civilization)-[:USED]->(:Script)', '(:Civilization)-[:BUILT]->(:Structure)', '(:Civilization)-[:SETTLED]->(:Settlement)', '(:Civilization)-[:INFLUENCED]->(:Civilization)', '(:Civilization)-[:SETTLED_IN]->(:Location)', '(:Civilization)-[:BUILT_PALACE_IN]->(:Location)', '(:Group)-[:MIGRATEDTO]->(:Place)', '(:Group)-[:DESTROYED]->(:Place)', '(:Group)-[:LOCATEDAT]->(:Place)', '(:Group)-[:INVADED]->(:Place)', '(:Group)-[:ASSOCIATEDWITH]->(:Group)', '(:Location)-[:TRADED_WITH]->(:Location)', '(:Location)-[:SETTLED_IN]->(:Location)', '(:Location)-[:ADAPTED_FROM]->(:Civilization)', '(:Language)-[:RELATEDTO]->(:Language)', '(:People)-[:TOOKOVER]->(:Place)', '(:People)-[:BURNTANDLOOTED]->(:Place)', '(:People)-[:ADOPTED]->(:Deity)', '(:ObsidianNote)-[:CONTAINS_CHUNK]->(:ObsidianNoteChunk)', '(:ObsidianNoteChunk)-[:REFERENCES_NODE]->(:Structure)', '(:ObsidianNoteChunk)-[:REFERENCES_NODE]->(:Civilization)', '(:ObsidianNoteChunk)-[:REFERENCES_NODE]->(:Place)', '(:ObsidianNoteChunk)-[:REFERENCES_NODE]->(:Artifact)', '(:ObsidianNoteChunk)-[:REFERENCES_NODE]->(:Person)', '(:ObsidianNoteChunk)-[:REFERENCES_NODE]->(:Settlement)', '(:ObsidianNoteChunk)-[:REFERENCES_NODE]->(:Script)', '(:ObsidianNoteChunk)-[:REFERENCES_NODE]->(:Language)', '(:ObsidianNoteChunk)-[:REFERENCES_NODE]->(:Location)', '(:ObsidianNoteChunk)-[:REFERENCES_NODE]->(:Timeperiod)', '(:ObsidianNoteChunk)-[:REFERENCES_NODE]->(:Concept)', '(:ObsidianNoteChunk)-[:REFERENCES_NODE]->(:Deity)', '(:ObsidianNoteChunk)-[:REFERENCES_NODE]->(:People)', '(:ObsidianNoteChunk)-[:REFERENCES_NODE]->(:Group)', '(:ObsidianNoteChunk)-[:REFERENCES_NODE]->(:Object)', '(:ObsidianVaultNode)-[:CONTAINS_NOTE]->(:ObsidianNote)', '(:Object)-[:LOCATEDAT]->(:Place)']\n",
      "        \n"
     ]
    }
   ],
   "source": [
    "print(graph.schema)"
   ]
  },
  {
   "cell_type": "code",
   "execution_count": 12,
   "metadata": {},
   "outputs": [
    {
     "name": "stdout",
     "output_type": "stream",
     "text": [
      "\n",
      "\n",
      "\u001b[1m> Entering new GraphCypherQAChain chain...\u001b[0m\n",
      "Generated Cypher:\n",
      "\u001b[32;1m\u001b[1;3mMATCH (p:People {name: 'Mycenaeans'})-[:REFERENCES_NODE]-(o:ObsidianNoteChunk) RETURN o.id\u001b[0m\n",
      "Full Context:\n",
      "\u001b[32;1m\u001b[1;3m[]\u001b[0m\n",
      "\n",
      "\u001b[1m> Finished chain.\u001b[0m\n"
     ]
    },
    {
     "data": {
      "text/plain": [
       "\"I'm sorry, but I don't know the answer.\""
      ]
     },
     "execution_count": 12,
     "metadata": {},
     "output_type": "execute_result"
    }
   ],
   "source": [
    "cypher_chain.run(\"What are the IDs of the ObsidianNoteChunk nodes that have a relationship with the Mycenaeans?\")"
   ]
  },
  {
   "cell_type": "code",
   "execution_count": null,
   "metadata": {},
   "outputs": [],
   "source": []
  }
 ],
 "metadata": {
  "kernelspec": {
   "display_name": "venv",
   "language": "python",
   "name": "python3"
  },
  "language_info": {
   "codemirror_mode": {
    "name": "ipython",
    "version": 3
   },
   "file_extension": ".py",
   "mimetype": "text/x-python",
   "name": "python",
   "nbconvert_exporter": "python",
   "pygments_lexer": "ipython3",
   "version": "3.10.11"
  }
 },
 "nbformat": 4,
 "nbformat_minor": 2
}
